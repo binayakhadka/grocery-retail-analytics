{
 "cells": [
  {
   "cell_type": "code",
   "execution_count": 8,
   "id": "ca3a0186-5738-4706-bec0-0e4a8cc57218",
   "metadata": {},
   "outputs": [],
   "source": [
    "#import necessary libraries\n",
    "import pandas as pd\n",
    "import numpy as np\n",
    "import matplotlib.pyplot as plt\n",
    "import seaborn as sns"
   ]
  },
  {
   "cell_type": "markdown",
   "id": "201d969f-61ff-4b97-ab7f-0c32b9634d6e",
   "metadata": {},
   "source": [
    "This dataset, sourced from Kaggle, contains detailed information about grocery items, including product categories, brands, and pricing data. Itdoes not include sales records."
   ]
  },
  {
   "cell_type": "code",
   "execution_count": 12,
   "id": "3483c03a-b954-43cf-91c2-98d91d200741",
   "metadata": {},
   "outputs": [],
   "source": [
    "df = pd.read_csv(\"dataset/Australia_Grocery_2022Sep.csv\")"
   ]
  },
  {
   "cell_type": "code",
   "execution_count": 10,
   "id": "8ea4aa81-8db5-4576-933d-1d3f52ce4bce",
   "metadata": {},
   "outputs": [
    {
     "data": {
      "text/html": [
       "<div>\n",
       "<style scoped>\n",
       "    .dataframe tbody tr th:only-of-type {\n",
       "        vertical-align: middle;\n",
       "    }\n",
       "\n",
       "    .dataframe tbody tr th {\n",
       "        vertical-align: top;\n",
       "    }\n",
       "\n",
       "    .dataframe thead th {\n",
       "        text-align: right;\n",
       "    }\n",
       "</style>\n",
       "<table border=\"1\" class=\"dataframe\">\n",
       "  <thead>\n",
       "    <tr style=\"text-align: right;\">\n",
       "      <th></th>\n",
       "      <th>index</th>\n",
       "      <th>Postal_code</th>\n",
       "      <th>Category</th>\n",
       "      <th>Sub_category</th>\n",
       "      <th>Product_Group</th>\n",
       "      <th>Product_Name</th>\n",
       "      <th>Package_price</th>\n",
       "      <th>Price_per_unit</th>\n",
       "      <th>package_size</th>\n",
       "      <th>is_estimated</th>\n",
       "      <th>...</th>\n",
       "      <th>Retail_price</th>\n",
       "      <th>Product_Url</th>\n",
       "      <th>Brand</th>\n",
       "      <th>Sku</th>\n",
       "      <th>RunDate</th>\n",
       "      <th>unit_price</th>\n",
       "      <th>unit_price_unit</th>\n",
       "      <th>state</th>\n",
       "      <th>city</th>\n",
       "      <th>tid</th>\n",
       "    </tr>\n",
       "  </thead>\n",
       "  <tbody>\n",
       "    <tr>\n",
       "      <th>0</th>\n",
       "      <td>0</td>\n",
       "      <td>2044</td>\n",
       "      <td>Meat &amp; seafood</td>\n",
       "      <td>Poultry</td>\n",
       "      <td>Chicken offal</td>\n",
       "      <td>RSPCA Approved Chicken Necks</td>\n",
       "      <td>7.15</td>\n",
       "      <td>$6.50 per 1Kg</td>\n",
       "      <td>approx. 1.1kg</td>\n",
       "      <td>1</td>\n",
       "      <td>...</td>\n",
       "      <td>NaN</td>\n",
       "      <td>https://shop.coles.com.au/a/alexandria/product...</td>\n",
       "      <td>Coles</td>\n",
       "      <td>1491280P</td>\n",
       "      <td>2022-11-09 08:23:06</td>\n",
       "      <td>6.50</td>\n",
       "      <td>1Kg</td>\n",
       "      <td>NSW</td>\n",
       "      <td>TEMPE</td>\n",
       "      <td>29742568</td>\n",
       "    </tr>\n",
       "    <tr>\n",
       "      <th>1</th>\n",
       "      <td>1</td>\n",
       "      <td>2044</td>\n",
       "      <td>Meat &amp; seafood</td>\n",
       "      <td>Poultry</td>\n",
       "      <td>Chicken offal</td>\n",
       "      <td>RSPCA Approved Chicken Livers</td>\n",
       "      <td>5.40</td>\n",
       "      <td>$9.00 per 1Kg</td>\n",
       "      <td>approx. 600g</td>\n",
       "      <td>1</td>\n",
       "      <td>...</td>\n",
       "      <td>NaN</td>\n",
       "      <td>https://shop.coles.com.au/a/alexandria/product...</td>\n",
       "      <td>Coles</td>\n",
       "      <td>1718058P</td>\n",
       "      <td>2022-11-09 08:23:06</td>\n",
       "      <td>9.00</td>\n",
       "      <td>1Kg</td>\n",
       "      <td>NSW</td>\n",
       "      <td>TEMPE</td>\n",
       "      <td>29742569</td>\n",
       "    </tr>\n",
       "    <tr>\n",
       "      <th>2</th>\n",
       "      <td>2</td>\n",
       "      <td>2044</td>\n",
       "      <td>Meat &amp; seafood</td>\n",
       "      <td>Poultry</td>\n",
       "      <td>Chicken offal</td>\n",
       "      <td>RSPCA Approved Chicken Giblets</td>\n",
       "      <td>4.50</td>\n",
       "      <td>$7.50 per 1Kg</td>\n",
       "      <td>approx. 600g</td>\n",
       "      <td>1</td>\n",
       "      <td>...</td>\n",
       "      <td>NaN</td>\n",
       "      <td>https://shop.coles.com.au/a/alexandria/product...</td>\n",
       "      <td>Coles</td>\n",
       "      <td>2565429P</td>\n",
       "      <td>2022-11-09 08:23:06</td>\n",
       "      <td>7.50</td>\n",
       "      <td>1Kg</td>\n",
       "      <td>NSW</td>\n",
       "      <td>TEMPE</td>\n",
       "      <td>29742570</td>\n",
       "    </tr>\n",
       "    <tr>\n",
       "      <th>3</th>\n",
       "      <td>3</td>\n",
       "      <td>2044</td>\n",
       "      <td>Meat &amp; seafood</td>\n",
       "      <td>Poultry</td>\n",
       "      <td>Chicken offal</td>\n",
       "      <td>RSPCA Approved Chicken Frames</td>\n",
       "      <td>3.38</td>\n",
       "      <td>$4.50 per 1Kg</td>\n",
       "      <td>approx. 750g each</td>\n",
       "      <td>1</td>\n",
       "      <td>...</td>\n",
       "      <td>4.13</td>\n",
       "      <td>https://shop.coles.com.au/a/alexandria/product...</td>\n",
       "      <td>Coles</td>\n",
       "      <td>3199541P</td>\n",
       "      <td>2022-11-09 08:23:06</td>\n",
       "      <td>4.50</td>\n",
       "      <td>1Kg</td>\n",
       "      <td>NSW</td>\n",
       "      <td>TEMPE</td>\n",
       "      <td>29742571</td>\n",
       "    </tr>\n",
       "    <tr>\n",
       "      <th>4</th>\n",
       "      <td>4</td>\n",
       "      <td>2044</td>\n",
       "      <td>Meat &amp; seafood</td>\n",
       "      <td>Poultry</td>\n",
       "      <td>Crumbed chicken</td>\n",
       "      <td>RSPCA Chicken Schnitzel Plain Crumb</td>\n",
       "      <td>10.50</td>\n",
       "      <td>$8.75 per 1Kg</td>\n",
       "      <td>1.2kg</td>\n",
       "      <td>0</td>\n",
       "      <td>...</td>\n",
       "      <td>11.00</td>\n",
       "      <td>https://shop.coles.com.au/a/alexandria/product...</td>\n",
       "      <td>Coles</td>\n",
       "      <td>2904193P</td>\n",
       "      <td>2022-11-09 08:23:06</td>\n",
       "      <td>8.75</td>\n",
       "      <td>1Kg</td>\n",
       "      <td>NSW</td>\n",
       "      <td>TEMPE</td>\n",
       "      <td>29742572</td>\n",
       "    </tr>\n",
       "  </tbody>\n",
       "</table>\n",
       "<p>5 rows × 22 columns</p>\n",
       "</div>"
      ],
      "text/plain": [
       "   index  Postal_code        Category Sub_category    Product_Group  \\\n",
       "0      0         2044  Meat & seafood      Poultry    Chicken offal   \n",
       "1      1         2044  Meat & seafood      Poultry    Chicken offal   \n",
       "2      2         2044  Meat & seafood      Poultry    Chicken offal   \n",
       "3      3         2044  Meat & seafood      Poultry    Chicken offal   \n",
       "4      4         2044  Meat & seafood      Poultry  Crumbed chicken   \n",
       "\n",
       "                          Product_Name  Package_price Price_per_unit  \\\n",
       "0         RSPCA Approved Chicken Necks           7.15  $6.50 per 1Kg   \n",
       "1        RSPCA Approved Chicken Livers           5.40  $9.00 per 1Kg   \n",
       "2       RSPCA Approved Chicken Giblets           4.50  $7.50 per 1Kg   \n",
       "3        RSPCA Approved Chicken Frames           3.38  $4.50 per 1Kg   \n",
       "4  RSPCA Chicken Schnitzel Plain Crumb          10.50  $8.75 per 1Kg   \n",
       "\n",
       "        package_size  is_estimated  ...  Retail_price  \\\n",
       "0      approx. 1.1kg             1  ...           NaN   \n",
       "1       approx. 600g             1  ...           NaN   \n",
       "2       approx. 600g             1  ...           NaN   \n",
       "3  approx. 750g each             1  ...          4.13   \n",
       "4              1.2kg             0  ...         11.00   \n",
       "\n",
       "                                         Product_Url  Brand       Sku  \\\n",
       "0  https://shop.coles.com.au/a/alexandria/product...  Coles  1491280P   \n",
       "1  https://shop.coles.com.au/a/alexandria/product...  Coles  1718058P   \n",
       "2  https://shop.coles.com.au/a/alexandria/product...  Coles  2565429P   \n",
       "3  https://shop.coles.com.au/a/alexandria/product...  Coles  3199541P   \n",
       "4  https://shop.coles.com.au/a/alexandria/product...  Coles  2904193P   \n",
       "\n",
       "               RunDate unit_price unit_price_unit  state   city       tid  \n",
       "0  2022-11-09 08:23:06       6.50             1Kg    NSW  TEMPE  29742568  \n",
       "1  2022-11-09 08:23:06       9.00             1Kg    NSW  TEMPE  29742569  \n",
       "2  2022-11-09 08:23:06       7.50             1Kg    NSW  TEMPE  29742570  \n",
       "3  2022-11-09 08:23:06       4.50             1Kg    NSW  TEMPE  29742571  \n",
       "4  2022-11-09 08:23:06       8.75             1Kg    NSW  TEMPE  29742572  \n",
       "\n",
       "[5 rows x 22 columns]"
      ]
     },
     "execution_count": 10,
     "metadata": {},
     "output_type": "execute_result"
    }
   ],
   "source": [
    "df.head()"
   ]
  },
  {
   "cell_type": "code",
   "execution_count": 77,
   "id": "ce211f99-07b4-4119-a460-c278560ae7b0",
   "metadata": {},
   "outputs": [
    {
     "data": {
      "text/plain": [
       "(488640, 22)"
      ]
     },
     "execution_count": 77,
     "metadata": {},
     "output_type": "execute_result"
    }
   ],
   "source": [
    "#get the total rows and columns of the dataset\n",
    "df.shape"
   ]
  },
  {
   "cell_type": "code",
   "execution_count": 5,
   "id": "71cb4cad-4b23-4b1c-abf4-4a49747594b1",
   "metadata": {},
   "outputs": [
    {
     "name": "stdout",
     "output_type": "stream",
     "text": [
      "<class 'pandas.core.frame.DataFrame'>\n",
      "RangeIndex: 488640 entries, 0 to 488639\n",
      "Data columns (total 22 columns):\n",
      " #   Column           Non-Null Count   Dtype  \n",
      "---  ------           --------------   -----  \n",
      " 0   index            488640 non-null  int64  \n",
      " 1   Postal_code      488640 non-null  int64  \n",
      " 2   Category         488640 non-null  object \n",
      " 3   Sub_category     488640 non-null  object \n",
      " 4   Product_Group    488640 non-null  object \n",
      " 5   Product_Name     488640 non-null  object \n",
      " 6   Package_price    487313 non-null  float64\n",
      " 7   Price_per_unit   485498 non-null  object \n",
      " 8   package_size     487869 non-null  object \n",
      " 9   is_estimated     488640 non-null  int64  \n",
      " 10  is_special       488640 non-null  int64  \n",
      " 11  in_stock         36454 non-null   object \n",
      " 12  Retail_price     136953 non-null  float64\n",
      " 13  Product_Url      488640 non-null  object \n",
      " 14  Brand            488640 non-null  object \n",
      " 15  Sku              488640 non-null  object \n",
      " 16  RunDate          488640 non-null  object \n",
      " 17  unit_price       485498 non-null  float64\n",
      " 18  unit_price_unit  485498 non-null  object \n",
      " 19  state            488640 non-null  object \n",
      " 20  city             488640 non-null  object \n",
      " 21  tid              488640 non-null  int64  \n",
      "dtypes: float64(3), int64(5), object(14)\n",
      "memory usage: 82.0+ MB\n"
     ]
    }
   ],
   "source": [
    "#print the datatype of all the columns along with non null values\n",
    "df.info()"
   ]
  },
  {
   "cell_type": "markdown",
   "id": "477ae9af-40dc-4c7c-be5e-c08ae8723335",
   "metadata": {},
   "source": []
  },
  {
   "cell_type": "markdown",
   "id": "08da6c5e-761d-4164-bcb2-71d7677482b5",
   "metadata": {},
   "source": [
    "**Let's count the total null values present in each columns and sort them in descending order.**"
   ]
  },
  {
   "cell_type": "code",
   "execution_count": 6,
   "id": "a2b1cbf0-10be-4d6c-b702-7de909f74e0f",
   "metadata": {},
   "outputs": [
    {
     "data": {
      "text/plain": [
       "in_stock           452186\n",
       "Retail_price       351687\n",
       "unit_price           3142\n",
       "Price_per_unit       3142\n",
       "unit_price_unit      3142\n",
       "Package_price        1327\n",
       "package_size          771\n",
       "Product_Group           0\n",
       "Product_Name            0\n",
       "Category                0\n",
       "Postal_code             0\n",
       "index                   0\n",
       "Sub_category            0\n",
       "is_estimated            0\n",
       "Product_Url             0\n",
       "is_special              0\n",
       "Sku                     0\n",
       "Brand                   0\n",
       "RunDate                 0\n",
       "state                   0\n",
       "city                    0\n",
       "tid                     0\n",
       "dtype: int64"
      ]
     },
     "execution_count": 6,
     "metadata": {},
     "output_type": "execute_result"
    }
   ],
   "source": [
    "df.isna().sum().sort_values(ascending=False)"
   ]
  },
  {
   "cell_type": "markdown",
   "id": "991982ba-67c0-4a4d-ab8d-c405803997df",
   "metadata": {},
   "source": [
    "Converting the missing values in terms of percentage. Let us set the tolerable threshold value for missing values as 30%."
   ]
  },
  {
   "cell_type": "code",
   "execution_count": 13,
   "id": "6114294c-6b06-40eb-89ce-e31210fe6af3",
   "metadata": {},
   "outputs": [
    {
     "data": {
      "text/plain": [
       "unit_price         0.643009\n",
       "unit_price_unit    0.643009\n",
       "Price_per_unit     0.643009\n",
       "Package_price      0.271570\n",
       "package_size       0.157785\n",
       "Category           0.000000\n",
       "Postal_code        0.000000\n",
       "index              0.000000\n",
       "Sub_category       0.000000\n",
       "is_estimated       0.000000\n",
       "Product_Group      0.000000\n",
       "Product_Name       0.000000\n",
       "Product_Url        0.000000\n",
       "is_special         0.000000\n",
       "Sku                0.000000\n",
       "Brand              0.000000\n",
       "RunDate            0.000000\n",
       "state              0.000000\n",
       "city               0.000000\n",
       "tid                0.000000\n",
       "dtype: float64"
      ]
     },
     "execution_count": 13,
     "metadata": {},
     "output_type": "execute_result"
    }
   ],
   "source": [
    "#calcuate the percentage for each column\n",
    "df_mean = df.isna().mean()*100.00\n",
    "\n",
    "#arrange the values in descending order\n",
    "df_mean.sort_values(ascending=False)"
   ]
  },
  {
   "cell_type": "markdown",
   "id": "290c4808-2796-464f-94c0-b4be9cfce335",
   "metadata": {},
   "source": [
    "Since, two columns exceed the threshold, we will drop those columns. Also, we are not using prodcut URL as well."
   ]
  },
  {
   "cell_type": "code",
   "execution_count": 13,
   "id": "6f980467-a816-4630-91ca-0c54b88c2e8b",
   "metadata": {},
   "outputs": [],
   "source": [
    "df.drop(columns=['index','in_stock','Retail_price', 'Product_Url'], inplace=True)"
   ]
  },
  {
   "cell_type": "markdown",
   "id": "22740e9d-6f33-4979-bd4b-2317df73cfde",
   "metadata": {},
   "source": [
    "Drop the duplicated entries in the dataset and keep only unique data."
   ]
  },
  {
   "cell_type": "code",
   "execution_count": 79,
   "id": "a2b811ee-3012-4f86-8b50-63afe3bd0719",
   "metadata": {},
   "outputs": [],
   "source": [
    "#drop the duplicate occurrances\n",
    "df.drop_duplicates(inplace=True)"
   ]
  },
  {
   "cell_type": "code",
   "execution_count": 15,
   "id": "62a1a848-e4cd-4ca4-8977-853c694587a1",
   "metadata": {},
   "outputs": [
    {
     "data": {
      "text/plain": [
       "(488640, 20)"
      ]
     },
     "execution_count": 15,
     "metadata": {},
     "output_type": "execute_result"
    }
   ],
   "source": [
    "dup.shape"
   ]
  },
  {
   "cell_type": "markdown",
   "id": "2654e63f-5bab-4f44-9522-ccd60bac54cb",
   "metadata": {},
   "source": [
    "Renaming the columns for uniformity."
   ]
  },
  {
   "cell_type": "code",
   "execution_count": 37,
   "id": "40da61d8-680d-4155-bbba-a04251f5a549",
   "metadata": {},
   "outputs": [
    {
     "data": {
      "text/plain": [
       "Index(['index', 'Postal_code', 'Category', 'Sub_category', 'Product_Group',\n",
       "       'Product_Name', 'Package_price', 'Price_per_unit', 'package_size',\n",
       "       'is_estimated', 'is_special', 'in_stock', 'Retail_price', 'Product_Url',\n",
       "       'Brand', 'Sku', 'RunDate', 'unit_price', 'unit_price_unit', 'state',\n",
       "       'city', 'tid', 'full_form'],\n",
       "      dtype='object')"
      ]
     },
     "execution_count": 37,
     "metadata": {},
     "output_type": "execute_result"
    }
   ],
   "source": [
    "df.columns"
   ]
  },
  {
   "cell_type": "code",
   "execution_count": 14,
   "id": "398d5624-f260-40f1-9074-bf26fdbc4402",
   "metadata": {},
   "outputs": [],
   "source": [
    "df.rename(columns={\n",
    "    'index': 'index',\n",
    "    'Postal_code': 'postal_code',\n",
    "    'Category': 'category',\n",
    "    'Sub_category': 'sub_category',\n",
    "    'Product_Group': 'product_group',\n",
    "    'Product_Name': 'product_name',\n",
    "    'Package_price': 'package_price',\n",
    "    'Price_per_unit': 'price_per_unit',\n",
    "    'package_size': 'package_size',\n",
    "    'is_estimated': 'is_estimated',\n",
    "    'is_special': 'is_special',\n",
    "    'in_stock': 'in_stock',\n",
    "    'Retail_price': 'retail_price',\n",
    "    'Brand': 'brand',\n",
    "    'Sku': 'sku',\n",
    "    'RunDate': 'run_date',\n",
    "    'unit_price': 'unit_price',\n",
    "    'unit_price_unit': 'unit_price_unit',\n",
    "    'state': 'state',\n",
    "    'city': 'city',\n",
    "    'tid': 'tid',\n",
    "}, inplace=True)"
   ]
  },
  {
   "cell_type": "markdown",
   "id": "71134e4e-89e8-40e7-a749-c2be7efda0d4",
   "metadata": {},
   "source": [
    "Find unique items listed under category."
   ]
  },
  {
   "cell_type": "code",
   "execution_count": 45,
   "id": "63e7f152-5e60-4aae-967d-dc68006b69e6",
   "metadata": {},
   "outputs": [
    {
     "data": {
      "text/plain": [
       "array(['Meat & seafood', 'Fruit & vegetables', 'Dairy, eggs & fridge',\n",
       "       'Bakery', 'Pantry', 'Drinks'], dtype=object)"
      ]
     },
     "execution_count": 45,
     "metadata": {},
     "output_type": "execute_result"
    }
   ],
   "source": [
    "df.category.unique()"
   ]
  },
  {
   "cell_type": "markdown",
   "id": "85af0906-2035-403a-8e28-a4873e86afa0",
   "metadata": {},
   "source": [
    "Count all the occurances of each category items."
   ]
  },
  {
   "cell_type": "code",
   "execution_count": 10,
   "id": "f6868a44-5e01-4c09-82ca-9f6929fe9929",
   "metadata": {},
   "outputs": [
    {
     "data": {
      "text/plain": [
       "category\n",
       "Pantry                  284413\n",
       "Dairy, eggs & fridge     67745\n",
       "Drinks                   64883\n",
       "Meat & seafood           32674\n",
       "Fruit & vegetables       22106\n",
       "Bakery                   16819\n",
       "Name: count, dtype: int64"
      ]
     },
     "execution_count": 10,
     "metadata": {},
     "output_type": "execute_result"
    }
   ],
   "source": [
    "df['category'].value_counts()"
   ]
  },
  {
   "cell_type": "markdown",
   "id": "8bd2a99a-0eb6-48df-8d86-8992042fe751",
   "metadata": {},
   "source": [
    "Pantry has the highest occurances while Bakery has the lowest."
   ]
  },
  {
   "cell_type": "code",
   "execution_count": 30,
   "id": "b17b6500-8516-4cda-a57b-3721b3721c5c",
   "metadata": {},
   "outputs": [
    {
     "data": {
      "text/html": [
       "<div>\n",
       "<style scoped>\n",
       "    .dataframe tbody tr th:only-of-type {\n",
       "        vertical-align: middle;\n",
       "    }\n",
       "\n",
       "    .dataframe tbody tr th {\n",
       "        vertical-align: top;\n",
       "    }\n",
       "\n",
       "    .dataframe thead th {\n",
       "        text-align: right;\n",
       "    }\n",
       "</style>\n",
       "<table border=\"1\" class=\"dataframe\">\n",
       "  <thead>\n",
       "    <tr style=\"text-align: right;\">\n",
       "      <th></th>\n",
       "      <th>postal_code</th>\n",
       "      <th>category</th>\n",
       "      <th>sub_category</th>\n",
       "      <th>product_group</th>\n",
       "      <th>product_name</th>\n",
       "      <th>package_price</th>\n",
       "    </tr>\n",
       "  </thead>\n",
       "  <tbody>\n",
       "    <tr>\n",
       "      <th>0</th>\n",
       "      <td>2044</td>\n",
       "      <td>Meat &amp; seafood</td>\n",
       "      <td>Poultry</td>\n",
       "      <td>Chicken offal</td>\n",
       "      <td>RSPCA Approved Chicken Necks</td>\n",
       "      <td>7.15</td>\n",
       "    </tr>\n",
       "    <tr>\n",
       "      <th>1</th>\n",
       "      <td>2044</td>\n",
       "      <td>Meat &amp; seafood</td>\n",
       "      <td>Poultry</td>\n",
       "      <td>Chicken offal</td>\n",
       "      <td>RSPCA Approved Chicken Livers</td>\n",
       "      <td>5.40</td>\n",
       "    </tr>\n",
       "    <tr>\n",
       "      <th>2</th>\n",
       "      <td>2044</td>\n",
       "      <td>Meat &amp; seafood</td>\n",
       "      <td>Poultry</td>\n",
       "      <td>Chicken offal</td>\n",
       "      <td>RSPCA Approved Chicken Giblets</td>\n",
       "      <td>4.50</td>\n",
       "    </tr>\n",
       "    <tr>\n",
       "      <th>3</th>\n",
       "      <td>2044</td>\n",
       "      <td>Meat &amp; seafood</td>\n",
       "      <td>Poultry</td>\n",
       "      <td>Chicken offal</td>\n",
       "      <td>RSPCA Approved Chicken Frames</td>\n",
       "      <td>3.38</td>\n",
       "    </tr>\n",
       "    <tr>\n",
       "      <th>4</th>\n",
       "      <td>2044</td>\n",
       "      <td>Meat &amp; seafood</td>\n",
       "      <td>Poultry</td>\n",
       "      <td>Crumbed chicken</td>\n",
       "      <td>RSPCA Chicken Schnitzel Plain Crumb</td>\n",
       "      <td>10.50</td>\n",
       "    </tr>\n",
       "    <tr>\n",
       "      <th>...</th>\n",
       "      <td>...</td>\n",
       "      <td>...</td>\n",
       "      <td>...</td>\n",
       "      <td>...</td>\n",
       "      <td>...</td>\n",
       "      <td>...</td>\n",
       "    </tr>\n",
       "    <tr>\n",
       "      <th>488635</th>\n",
       "      <td>9601</td>\n",
       "      <td>Drinks</td>\n",
       "      <td>Coffee Drinks</td>\n",
       "      <td>Accessories Coffee</td>\n",
       "      <td>Coffee Machine Descaler</td>\n",
       "      <td>4.00</td>\n",
       "    </tr>\n",
       "    <tr>\n",
       "      <th>488636</th>\n",
       "      <td>9601</td>\n",
       "      <td>Drinks</td>\n",
       "      <td>Coffee Drinks</td>\n",
       "      <td>Accessories Coffee</td>\n",
       "      <td>Coffee Mate French Vanilla Flavoured Liquid Co...</td>\n",
       "      <td>5.00</td>\n",
       "    </tr>\n",
       "    <tr>\n",
       "      <th>488637</th>\n",
       "      <td>9601</td>\n",
       "      <td>Drinks</td>\n",
       "      <td>Coffee Drinks</td>\n",
       "      <td>Accessories Coffee</td>\n",
       "      <td>Coffee Filter Papers 10-12 Cup Size 4</td>\n",
       "      <td>3.00</td>\n",
       "    </tr>\n",
       "    <tr>\n",
       "      <th>488638</th>\n",
       "      <td>9601</td>\n",
       "      <td>Drinks</td>\n",
       "      <td>Coffee Drinks</td>\n",
       "      <td>Accessories Coffee</td>\n",
       "      <td>Barista Coffee Machine</td>\n",
       "      <td>99.00</td>\n",
       "    </tr>\n",
       "    <tr>\n",
       "      <th>488639</th>\n",
       "      <td>9601</td>\n",
       "      <td>Drinks</td>\n",
       "      <td>Coffee Drinks</td>\n",
       "      <td>Accessories Coffee</td>\n",
       "      <td>Qualita ORO Mountain Grown Ground Coffee</td>\n",
       "      <td>17.00</td>\n",
       "    </tr>\n",
       "  </tbody>\n",
       "</table>\n",
       "<p>488640 rows × 6 columns</p>\n",
       "</div>"
      ],
      "text/plain": [
       "        postal_code        category   sub_category       product_group  \\\n",
       "0              2044  Meat & seafood        Poultry       Chicken offal   \n",
       "1              2044  Meat & seafood        Poultry       Chicken offal   \n",
       "2              2044  Meat & seafood        Poultry       Chicken offal   \n",
       "3              2044  Meat & seafood        Poultry       Chicken offal   \n",
       "4              2044  Meat & seafood        Poultry     Crumbed chicken   \n",
       "...             ...             ...            ...                 ...   \n",
       "488635         9601          Drinks  Coffee Drinks  Accessories Coffee   \n",
       "488636         9601          Drinks  Coffee Drinks  Accessories Coffee   \n",
       "488637         9601          Drinks  Coffee Drinks  Accessories Coffee   \n",
       "488638         9601          Drinks  Coffee Drinks  Accessories Coffee   \n",
       "488639         9601          Drinks  Coffee Drinks  Accessories Coffee   \n",
       "\n",
       "                                             product_name  package_price  \n",
       "0                            RSPCA Approved Chicken Necks           7.15  \n",
       "1                           RSPCA Approved Chicken Livers           5.40  \n",
       "2                          RSPCA Approved Chicken Giblets           4.50  \n",
       "3                           RSPCA Approved Chicken Frames           3.38  \n",
       "4                     RSPCA Chicken Schnitzel Plain Crumb          10.50  \n",
       "...                                                   ...            ...  \n",
       "488635                            Coffee Machine Descaler           4.00  \n",
       "488636  Coffee Mate French Vanilla Flavoured Liquid Co...           5.00  \n",
       "488637              Coffee Filter Papers 10-12 Cup Size 4           3.00  \n",
       "488638                             Barista Coffee Machine          99.00  \n",
       "488639           Qualita ORO Mountain Grown Ground Coffee          17.00  \n",
       "\n",
       "[488640 rows x 6 columns]"
      ]
     },
     "execution_count": 30,
     "metadata": {},
     "output_type": "execute_result"
    }
   ],
   "source": [
    "df.iloc[:,0:6]"
   ]
  },
  {
   "cell_type": "code",
   "execution_count": 10,
   "id": "9a6b0767-6062-4dd0-b64f-14f28f974deb",
   "metadata": {},
   "outputs": [
    {
     "data": {
      "text/html": [
       "<div>\n",
       "<style scoped>\n",
       "    .dataframe tbody tr th:only-of-type {\n",
       "        vertical-align: middle;\n",
       "    }\n",
       "\n",
       "    .dataframe tbody tr th {\n",
       "        vertical-align: top;\n",
       "    }\n",
       "\n",
       "    .dataframe thead th {\n",
       "        text-align: right;\n",
       "    }\n",
       "</style>\n",
       "<table border=\"1\" class=\"dataframe\">\n",
       "  <thead>\n",
       "    <tr style=\"text-align: right;\">\n",
       "      <th></th>\n",
       "      <th>package_price</th>\n",
       "      <th>price_per_unit</th>\n",
       "      <th>package_size</th>\n",
       "      <th>is_estimated</th>\n",
       "    </tr>\n",
       "  </thead>\n",
       "  <tbody>\n",
       "    <tr>\n",
       "      <th>0</th>\n",
       "      <td>7.15</td>\n",
       "      <td>$6.50 per 1Kg</td>\n",
       "      <td>approx. 1.1kg</td>\n",
       "      <td>1</td>\n",
       "    </tr>\n",
       "    <tr>\n",
       "      <th>1</th>\n",
       "      <td>5.40</td>\n",
       "      <td>$9.00 per 1Kg</td>\n",
       "      <td>approx. 600g</td>\n",
       "      <td>1</td>\n",
       "    </tr>\n",
       "    <tr>\n",
       "      <th>2</th>\n",
       "      <td>4.50</td>\n",
       "      <td>$7.50 per 1Kg</td>\n",
       "      <td>approx. 600g</td>\n",
       "      <td>1</td>\n",
       "    </tr>\n",
       "    <tr>\n",
       "      <th>3</th>\n",
       "      <td>3.38</td>\n",
       "      <td>$4.50 per 1Kg</td>\n",
       "      <td>approx. 750g each</td>\n",
       "      <td>1</td>\n",
       "    </tr>\n",
       "    <tr>\n",
       "      <th>4</th>\n",
       "      <td>10.50</td>\n",
       "      <td>$8.75 per 1Kg</td>\n",
       "      <td>1.2kg</td>\n",
       "      <td>0</td>\n",
       "    </tr>\n",
       "    <tr>\n",
       "      <th>...</th>\n",
       "      <td>...</td>\n",
       "      <td>...</td>\n",
       "      <td>...</td>\n",
       "      <td>...</td>\n",
       "    </tr>\n",
       "    <tr>\n",
       "      <th>488635</th>\n",
       "      <td>4.00</td>\n",
       "      <td>$1.60 per 100mL</td>\n",
       "      <td>250mL</td>\n",
       "      <td>0</td>\n",
       "    </tr>\n",
       "    <tr>\n",
       "      <th>488636</th>\n",
       "      <td>5.00</td>\n",
       "      <td>$3.33 per 100mL</td>\n",
       "      <td>150mL</td>\n",
       "      <td>0</td>\n",
       "    </tr>\n",
       "    <tr>\n",
       "      <th>488637</th>\n",
       "      <td>3.00</td>\n",
       "      <td>$0.08 per 1Ea</td>\n",
       "      <td>1 pack</td>\n",
       "      <td>0</td>\n",
       "    </tr>\n",
       "    <tr>\n",
       "      <th>488638</th>\n",
       "      <td>99.00</td>\n",
       "      <td>$99.00 per 1Ea</td>\n",
       "      <td>1 each</td>\n",
       "      <td>0</td>\n",
       "    </tr>\n",
       "    <tr>\n",
       "      <th>488639</th>\n",
       "      <td>17.00</td>\n",
       "      <td>$3.40 per 100G</td>\n",
       "      <td>500g</td>\n",
       "      <td>0</td>\n",
       "    </tr>\n",
       "  </tbody>\n",
       "</table>\n",
       "<p>488640 rows × 4 columns</p>\n",
       "</div>"
      ],
      "text/plain": [
       "        package_price   price_per_unit       package_size  is_estimated\n",
       "0                7.15    $6.50 per 1Kg      approx. 1.1kg             1\n",
       "1                5.40    $9.00 per 1Kg       approx. 600g             1\n",
       "2                4.50    $7.50 per 1Kg       approx. 600g             1\n",
       "3                3.38    $4.50 per 1Kg  approx. 750g each             1\n",
       "4               10.50    $8.75 per 1Kg              1.2kg             0\n",
       "...               ...              ...                ...           ...\n",
       "488635           4.00  $1.60 per 100mL              250mL             0\n",
       "488636           5.00  $3.33 per 100mL              150mL             0\n",
       "488637           3.00    $0.08 per 1Ea             1 pack             0\n",
       "488638          99.00   $99.00 per 1Ea             1 each             0\n",
       "488639          17.00   $3.40 per 100G               500g             0\n",
       "\n",
       "[488640 rows x 4 columns]"
      ]
     },
     "execution_count": 10,
     "metadata": {},
     "output_type": "execute_result"
    }
   ],
   "source": [
    "df.iloc[:,6:10]"
   ]
  },
  {
   "cell_type": "code",
   "execution_count": 8,
   "id": "1b863e6e-f13a-48d8-a728-78ab338e862f",
   "metadata": {},
   "outputs": [
    {
     "data": {
      "text/html": [
       "<div>\n",
       "<style scoped>\n",
       "    .dataframe tbody tr th:only-of-type {\n",
       "        vertical-align: middle;\n",
       "    }\n",
       "\n",
       "    .dataframe tbody tr th {\n",
       "        vertical-align: top;\n",
       "    }\n",
       "\n",
       "    .dataframe thead th {\n",
       "        text-align: right;\n",
       "    }\n",
       "</style>\n",
       "<table border=\"1\" class=\"dataframe\">\n",
       "  <thead>\n",
       "    <tr style=\"text-align: right;\">\n",
       "      <th></th>\n",
       "      <th>brand</th>\n",
       "      <th>sku</th>\n",
       "      <th>run_date</th>\n",
       "      <th>unit_price</th>\n",
       "      <th>unit_price_unit</th>\n",
       "    </tr>\n",
       "  </thead>\n",
       "  <tbody>\n",
       "    <tr>\n",
       "      <th>0</th>\n",
       "      <td>Coles</td>\n",
       "      <td>1491280P</td>\n",
       "      <td>2022-11-09 08:23:06</td>\n",
       "      <td>6.50</td>\n",
       "      <td>1Kg</td>\n",
       "    </tr>\n",
       "    <tr>\n",
       "      <th>1</th>\n",
       "      <td>Coles</td>\n",
       "      <td>1718058P</td>\n",
       "      <td>2022-11-09 08:23:06</td>\n",
       "      <td>9.00</td>\n",
       "      <td>1Kg</td>\n",
       "    </tr>\n",
       "    <tr>\n",
       "      <th>2</th>\n",
       "      <td>Coles</td>\n",
       "      <td>2565429P</td>\n",
       "      <td>2022-11-09 08:23:06</td>\n",
       "      <td>7.50</td>\n",
       "      <td>1Kg</td>\n",
       "    </tr>\n",
       "    <tr>\n",
       "      <th>3</th>\n",
       "      <td>Coles</td>\n",
       "      <td>3199541P</td>\n",
       "      <td>2022-11-09 08:23:06</td>\n",
       "      <td>4.50</td>\n",
       "      <td>1Kg</td>\n",
       "    </tr>\n",
       "    <tr>\n",
       "      <th>4</th>\n",
       "      <td>Coles</td>\n",
       "      <td>2904193P</td>\n",
       "      <td>2022-11-09 08:23:06</td>\n",
       "      <td>8.75</td>\n",
       "      <td>1Kg</td>\n",
       "    </tr>\n",
       "    <tr>\n",
       "      <th>...</th>\n",
       "      <td>...</td>\n",
       "      <td>...</td>\n",
       "      <td>...</td>\n",
       "      <td>...</td>\n",
       "      <td>...</td>\n",
       "    </tr>\n",
       "    <tr>\n",
       "      <th>488635</th>\n",
       "      <td>Coles</td>\n",
       "      <td>3209077P</td>\n",
       "      <td>2022-11-09 08:23:06</td>\n",
       "      <td>1.60</td>\n",
       "      <td>100mL</td>\n",
       "    </tr>\n",
       "    <tr>\n",
       "      <th>488636</th>\n",
       "      <td>Nestle</td>\n",
       "      <td>8987047P</td>\n",
       "      <td>2022-11-09 08:23:06</td>\n",
       "      <td>3.33</td>\n",
       "      <td>100mL</td>\n",
       "    </tr>\n",
       "    <tr>\n",
       "      <th>488637</th>\n",
       "      <td>Harris</td>\n",
       "      <td>47955P</td>\n",
       "      <td>2022-11-09 08:23:06</td>\n",
       "      <td>0.08</td>\n",
       "      <td>1Ea</td>\n",
       "    </tr>\n",
       "    <tr>\n",
       "      <th>488638</th>\n",
       "      <td>L'OR</td>\n",
       "      <td>5745722P</td>\n",
       "      <td>2022-11-09 08:23:06</td>\n",
       "      <td>99.00</td>\n",
       "      <td>1Ea</td>\n",
       "    </tr>\n",
       "    <tr>\n",
       "      <th>488639</th>\n",
       "      <td>Lavazza</td>\n",
       "      <td>3515222P</td>\n",
       "      <td>2022-11-09 08:23:06</td>\n",
       "      <td>3.40</td>\n",
       "      <td>100G</td>\n",
       "    </tr>\n",
       "  </tbody>\n",
       "</table>\n",
       "<p>488640 rows × 5 columns</p>\n",
       "</div>"
      ],
      "text/plain": [
       "          brand       sku             run_date  unit_price unit_price_unit\n",
       "0         Coles  1491280P  2022-11-09 08:23:06        6.50             1Kg\n",
       "1         Coles  1718058P  2022-11-09 08:23:06        9.00             1Kg\n",
       "2         Coles  2565429P  2022-11-09 08:23:06        7.50             1Kg\n",
       "3         Coles  3199541P  2022-11-09 08:23:06        4.50             1Kg\n",
       "4         Coles  2904193P  2022-11-09 08:23:06        8.75             1Kg\n",
       "...         ...       ...                  ...         ...             ...\n",
       "488635    Coles  3209077P  2022-11-09 08:23:06        1.60           100mL\n",
       "488636   Nestle  8987047P  2022-11-09 08:23:06        3.33           100mL\n",
       "488637   Harris    47955P  2022-11-09 08:23:06        0.08             1Ea\n",
       "488638     L'OR  5745722P  2022-11-09 08:23:06       99.00             1Ea\n",
       "488639  Lavazza  3515222P  2022-11-09 08:23:06        3.40            100G\n",
       "\n",
       "[488640 rows x 5 columns]"
      ]
     },
     "execution_count": 8,
     "metadata": {},
     "output_type": "execute_result"
    }
   ],
   "source": [
    "df.iloc[:,11:16]"
   ]
  },
  {
   "cell_type": "code",
   "execution_count": 9,
   "id": "373a28bd-a26e-4c7f-95e0-ef6e1a0c8331",
   "metadata": {},
   "outputs": [
    {
     "data": {
      "text/html": [
       "<div>\n",
       "<style scoped>\n",
       "    .dataframe tbody tr th:only-of-type {\n",
       "        vertical-align: middle;\n",
       "    }\n",
       "\n",
       "    .dataframe tbody tr th {\n",
       "        vertical-align: top;\n",
       "    }\n",
       "\n",
       "    .dataframe thead th {\n",
       "        text-align: right;\n",
       "    }\n",
       "</style>\n",
       "<table border=\"1\" class=\"dataframe\">\n",
       "  <thead>\n",
       "    <tr style=\"text-align: right;\">\n",
       "      <th></th>\n",
       "      <th>city</th>\n",
       "      <th>tid</th>\n",
       "    </tr>\n",
       "  </thead>\n",
       "  <tbody>\n",
       "    <tr>\n",
       "      <th>0</th>\n",
       "      <td>TEMPE</td>\n",
       "      <td>29742568</td>\n",
       "    </tr>\n",
       "    <tr>\n",
       "      <th>1</th>\n",
       "      <td>TEMPE</td>\n",
       "      <td>29742569</td>\n",
       "    </tr>\n",
       "    <tr>\n",
       "      <th>2</th>\n",
       "      <td>TEMPE</td>\n",
       "      <td>29742570</td>\n",
       "    </tr>\n",
       "    <tr>\n",
       "      <th>3</th>\n",
       "      <td>TEMPE</td>\n",
       "      <td>29742571</td>\n",
       "    </tr>\n",
       "    <tr>\n",
       "      <th>4</th>\n",
       "      <td>TEMPE</td>\n",
       "      <td>29742572</td>\n",
       "    </tr>\n",
       "    <tr>\n",
       "      <th>...</th>\n",
       "      <td>...</td>\n",
       "      <td>...</td>\n",
       "    </tr>\n",
       "    <tr>\n",
       "      <th>488635</th>\n",
       "      <td>CANBERRA CIVIC DOORDASH DUMMY</td>\n",
       "      <td>30231203</td>\n",
       "    </tr>\n",
       "    <tr>\n",
       "      <th>488636</th>\n",
       "      <td>CANBERRA CIVIC DOORDASH DUMMY</td>\n",
       "      <td>30231204</td>\n",
       "    </tr>\n",
       "    <tr>\n",
       "      <th>488637</th>\n",
       "      <td>CANBERRA CIVIC DOORDASH DUMMY</td>\n",
       "      <td>30231205</td>\n",
       "    </tr>\n",
       "    <tr>\n",
       "      <th>488638</th>\n",
       "      <td>CANBERRA CIVIC DOORDASH DUMMY</td>\n",
       "      <td>30231206</td>\n",
       "    </tr>\n",
       "    <tr>\n",
       "      <th>488639</th>\n",
       "      <td>CANBERRA CIVIC DOORDASH DUMMY</td>\n",
       "      <td>30231207</td>\n",
       "    </tr>\n",
       "  </tbody>\n",
       "</table>\n",
       "<p>488640 rows × 2 columns</p>\n",
       "</div>"
      ],
      "text/plain": [
       "                                 city       tid\n",
       "0                               TEMPE  29742568\n",
       "1                               TEMPE  29742569\n",
       "2                               TEMPE  29742570\n",
       "3                               TEMPE  29742571\n",
       "4                               TEMPE  29742572\n",
       "...                               ...       ...\n",
       "488635  CANBERRA CIVIC DOORDASH DUMMY  30231203\n",
       "488636  CANBERRA CIVIC DOORDASH DUMMY  30231204\n",
       "488637  CANBERRA CIVIC DOORDASH DUMMY  30231205\n",
       "488638  CANBERRA CIVIC DOORDASH DUMMY  30231206\n",
       "488639  CANBERRA CIVIC DOORDASH DUMMY  30231207\n",
       "\n",
       "[488640 rows x 2 columns]"
      ]
     },
     "execution_count": 9,
     "metadata": {},
     "output_type": "execute_result"
    }
   ],
   "source": [
    "df.iloc[:,17:]"
   ]
  },
  {
   "cell_type": "markdown",
   "id": "ebfdf220-6cad-48b5-8d74-8ba71a2a2056",
   "metadata": {},
   "source": [
    "Find all the distinct states in the *state* column."
   ]
  },
  {
   "cell_type": "code",
   "execution_count": 11,
   "id": "27704a33-7377-430d-8617-3e2e28b51799",
   "metadata": {},
   "outputs": [
    {
     "data": {
      "text/plain": [
       "array(['ACT', 'NSW', 'NT', 'QLD', 'SA', 'TAS', 'VIC', 'WA'], dtype=object)"
      ]
     },
     "execution_count": 11,
     "metadata": {},
     "output_type": "execute_result"
    }
   ],
   "source": [
    "np.sort(df.state.unique())"
   ]
  },
  {
   "cell_type": "markdown",
   "id": "43f969fb-45e9-4954-86b9-7fd4bf04604c",
   "metadata": {},
   "source": [
    "It appears that state column includes two territories as well, Australian Capital Territory and Northern Territory."
   ]
  },
  {
   "cell_type": "markdown",
   "id": "8f3ac3c0-43ee-4a97-a20c-3a2813e38b66",
   "metadata": {},
   "source": [
    "Create a new column with full form for each of the states for readability."
   ]
  },
  {
   "cell_type": "code",
   "execution_count": 9,
   "id": "0c995120-0f84-4bb8-a40c-53e8bad24e15",
   "metadata": {},
   "outputs": [],
   "source": [
    "df['full_form'] = df.state.replace({\n",
    "'NSW': 'New South Wales',\n",
    "'ACT': 'Australian Capital Territory',\n",
    "'VIC': 'Victoria',\n",
    "'QLD': 'Queensland',\n",
    "'SA': 'South Australia',\n",
    "'WA': 'Western Australia',\n",
    "'TAS': 'Tasmania',\n",
    "'NT': 'Northern Territory'})"
   ]
  },
  {
   "cell_type": "markdown",
   "id": "b88c7f2d-9281-48e6-8f70-03af7e435e84",
   "metadata": {},
   "source": [
    "Examine all the cities for abnormality."
   ]
  },
  {
   "cell_type": "code",
   "execution_count": 14,
   "id": "0262cf10-21c3-40c9-9a40-54ada5e98984",
   "metadata": {},
   "outputs": [
    {
     "data": {
      "text/plain": [
       "array(['ALBANY', 'BAINES', 'BAROSSA GOLDFIELDS',\n",
       "       'BELCONNEN DOORDASH DUMMY', 'BELMONT', 'BEN BUCKLER', 'BIGGS FLAT',\n",
       "       'BONOGIN', 'BRISBANE', 'BRUNSWICK', 'BURNIE',\n",
       "       'BUSSELTON DOOR DASH DUMMY', 'CANBERRA CIVIC DOORDASH DUMMY',\n",
       "       'CANTERBURY', 'CONDER', 'COSTELLO', 'COTTESLOE', 'CURTIN',\n",
       "       'DARWIN CITY', 'DEVONPORT', 'EAST MELBOURNE', 'EDEN HILLS',\n",
       "       'FRANKLIN', 'GASCOYNE RIVER', 'GIBSON DESERT SOUTH', 'GYMEA BAY',\n",
       "       'HAMILTON SOUTH', 'HDPORTSORELLPORT', 'HECKENBERG', 'HERSTON',\n",
       "       'HOBART', 'ILLAWONG', 'ILPARPA', 'JUNCTION DD DUMMY', 'KALAMUNDA',\n",
       "       'KALEEN', 'LAKEMBA', 'LAUNCESTON', 'LIGHT PASS', 'MACQUARIE',\n",
       "       'MANUKA', 'MENAI', 'MOUNT MELVILLE', 'NEW FARM', 'NORTH PERTH',\n",
       "       'OAKLANDS PARK', 'ONKAPARINGA HILLS', 'PALKAGEE', 'PERTH',\n",
       "       'PETRIE TERRACE', 'ROCKINGHAM', 'ROSETOWN', 'ROSNY',\n",
       "       'SEACLIFF PARK', 'SEASWIFT', 'SERPENTINE', 'SEVENTEEN MILE ROCKS',\n",
       "       'SHERWOOD', 'SORELL', 'SOUTH LAUNCESTON', 'SOUTH MELBOURNE',\n",
       "       'ST LUCIA', 'STIRLING', 'SUNNYBANK HILLS BULK', 'SURFERS PARADISE',\n",
       "       'SWAN HILL', 'TEMPE', 'ULVERSTONE TO MEADOW MEWS TEMPZONE 2',\n",
       "       'WEST LAUNCESTON', 'WODEN', 'YARRA JUNCTION', 'YARRAGON',\n",
       "       'YARRAVILLE DOORDASH DUMMY', 'YARRAVILLE WEST'], dtype=object)"
      ]
     },
     "execution_count": 14,
     "metadata": {},
     "output_type": "execute_result"
    }
   ],
   "source": [
    "np.sort(df.city.unique())"
   ]
  },
  {
   "cell_type": "markdown",
   "id": "daab859d-997e-4935-8080-fe34c936ca60",
   "metadata": {},
   "source": [
    "There are *seven* cities that seem like erroneous entry. Count how many entries are there for those cities."
   ]
  },
  {
   "cell_type": "code",
   "execution_count": 12,
   "id": "7da4c47d-a71b-4151-b0e5-0bef4008a152",
   "metadata": {},
   "outputs": [
    {
     "data": {
      "text/plain": [
       "city\n",
       "YARRAVILLE DOORDASH DUMMY               6949\n",
       "HDPORTSORELLPORT                        6250\n",
       "BUSSELTON DOOR DASH DUMMY               6414\n",
       "JUNCTION DD DUMMY                       6904\n",
       "BELCONNEN DOORDASH DUMMY                6622\n",
       "CANBERRA CIVIC DOORDASH DUMMY           6487\n",
       "ULVERSTONE TO MEADOW MEWS TEMPZONE 2    6096\n",
       "Name: count, dtype: int64"
      ]
     },
     "execution_count": 12,
     "metadata": {},
     "output_type": "execute_result"
    }
   ],
   "source": [
    "df.city.value_counts()[[\n",
    "'YARRAVILLE DOORDASH DUMMY',\n",
    "'HDPORTSORELLPORT',\n",
    "'BUSSELTON DOOR DASH DUMMY',\n",
    "'JUNCTION DD DUMMY',\n",
    "'BELCONNEN DOORDASH DUMMY',\n",
    "'CANBERRA CIVIC DOORDASH DUMMY',\n",
    "'ULVERSTONE TO MEADOW MEWS TEMPZONE 2']]"
   ]
  },
  {
   "cell_type": "code",
   "execution_count": null,
   "id": "a34f9cfb-16e9-4da3-abd7-701ea4d4805e",
   "metadata": {},
   "outputs": [],
   "source": [
    "The numbers look significant."
   ]
  },
  {
   "cell_type": "code",
   "execution_count": 83,
   "id": "1ad8ab86-e367-44d5-bd2a-d27bf4643d09",
   "metadata": {},
   "outputs": [
    {
     "data": {
      "text/html": [
       "<div>\n",
       "<style scoped>\n",
       "    .dataframe tbody tr th:only-of-type {\n",
       "        vertical-align: middle;\n",
       "    }\n",
       "\n",
       "    .dataframe tbody tr th {\n",
       "        vertical-align: top;\n",
       "    }\n",
       "\n",
       "    .dataframe thead th {\n",
       "        text-align: right;\n",
       "    }\n",
       "</style>\n",
       "<table border=\"1\" class=\"dataframe\">\n",
       "  <thead>\n",
       "    <tr style=\"text-align: right;\">\n",
       "      <th></th>\n",
       "      <th>state</th>\n",
       "      <th>full_form</th>\n",
       "      <th>postal_code</th>\n",
       "    </tr>\n",
       "  </thead>\n",
       "  <tbody>\n",
       "    <tr>\n",
       "      <th>343102</th>\n",
       "      <td>TAS</td>\n",
       "      <td>Tasmania</td>\n",
       "      <td>9010</td>\n",
       "    </tr>\n",
       "  </tbody>\n",
       "</table>\n",
       "</div>"
      ],
      "text/plain": [
       "       state full_form  postal_code\n",
       "343102   TAS  Tasmania         9010"
      ]
     },
     "execution_count": 83,
     "metadata": {},
     "output_type": "execute_result"
    }
   ],
   "source": [
    "df.loc[df.city=='HDPORTSORELLPORT', ['state','full_form','postal_code']].head(1)"
   ]
  },
  {
   "cell_type": "markdown",
   "id": "8e58b14a-3352-4d09-9ce6-b7c9c1f765d8",
   "metadata": {},
   "source": [
    "The city has postal code **9010** but the state is **Tasmania**. The state should be **Queensland**."
   ]
  },
  {
   "cell_type": "code",
   "execution_count": 13,
   "id": "8757cd9a-bd41-49c9-9acf-25d1e17d3387",
   "metadata": {},
   "outputs": [],
   "source": [
    "df.loc[df.city=='HDPORTSORELLPORT', ['state','full_form']] = ['QLD','Queensland'] "
   ]
  },
  {
   "cell_type": "code",
   "execution_count": 85,
   "id": "5d28863e-9bc7-48fd-b521-d75e4b27c707",
   "metadata": {},
   "outputs": [
    {
     "data": {
      "text/html": [
       "<div>\n",
       "<style scoped>\n",
       "    .dataframe tbody tr th:only-of-type {\n",
       "        vertical-align: middle;\n",
       "    }\n",
       "\n",
       "    .dataframe tbody tr th {\n",
       "        vertical-align: top;\n",
       "    }\n",
       "\n",
       "    .dataframe thead th {\n",
       "        text-align: right;\n",
       "    }\n",
       "</style>\n",
       "<table border=\"1\" class=\"dataframe\">\n",
       "  <thead>\n",
       "    <tr style=\"text-align: right;\">\n",
       "      <th></th>\n",
       "      <th>state</th>\n",
       "      <th>full_form</th>\n",
       "      <th>postal_code</th>\n",
       "    </tr>\n",
       "  </thead>\n",
       "  <tbody>\n",
       "    <tr>\n",
       "      <th>360749</th>\n",
       "      <td>QLD</td>\n",
       "      <td>Queensland</td>\n",
       "      <td>9010</td>\n",
       "    </tr>\n",
       "    <tr>\n",
       "      <th>346019</th>\n",
       "      <td>QLD</td>\n",
       "      <td>Queensland</td>\n",
       "      <td>9010</td>\n",
       "    </tr>\n",
       "    <tr>\n",
       "      <th>344940</th>\n",
       "      <td>QLD</td>\n",
       "      <td>Queensland</td>\n",
       "      <td>9010</td>\n",
       "    </tr>\n",
       "    <tr>\n",
       "      <th>362637</th>\n",
       "      <td>QLD</td>\n",
       "      <td>Queensland</td>\n",
       "      <td>9010</td>\n",
       "    </tr>\n",
       "    <tr>\n",
       "      <th>346221</th>\n",
       "      <td>QLD</td>\n",
       "      <td>Queensland</td>\n",
       "      <td>9010</td>\n",
       "    </tr>\n",
       "  </tbody>\n",
       "</table>\n",
       "</div>"
      ],
      "text/plain": [
       "       state   full_form  postal_code\n",
       "360749   QLD  Queensland         9010\n",
       "346019   QLD  Queensland         9010\n",
       "344940   QLD  Queensland         9010\n",
       "362637   QLD  Queensland         9010\n",
       "346221   QLD  Queensland         9010"
      ]
     },
     "execution_count": 85,
     "metadata": {},
     "output_type": "execute_result"
    }
   ],
   "source": [
    "df.loc[df.city=='HDPORTSORELLPORT', ['state','full_form','postal_code']].sample(5)"
   ]
  },
  {
   "cell_type": "code",
   "execution_count": 86,
   "id": "c3001702-9bca-48c1-83eb-5f09a3cb3ca4",
   "metadata": {},
   "outputs": [
    {
     "data": {
      "text/plain": [
       "array([ 800,  852,  870,  872, 2026, 2044, 2168, 2193, 2195, 2227, 2234,\n",
       "       2303, 2906, 2913, 3002, 3013, 3797, 3823, 4000, 4005, 4006, 4067,\n",
       "       4073, 4075, 4109, 4213, 4217, 5046, 5049, 5050, 5152, 5153, 5163,\n",
       "       5275, 5351, 5355, 5670, 6000, 6006, 6011, 6076, 6125, 6168, 6330,\n",
       "       6705, 7000, 7249, 7250, 9010, 9013, 9018, 9056, 9140, 9172, 9205,\n",
       "       9216, 9217, 9250, 9310, 9315, 9320, 9330, 9585, 9601, 9603, 9605,\n",
       "       9606, 9611, 9614, 9617])"
      ]
     },
     "execution_count": 86,
     "metadata": {},
     "output_type": "execute_result"
    }
   ],
   "source": [
    "np.sort(df.postal_code.unique())"
   ]
  },
  {
   "cell_type": "markdown",
   "id": "1e203e1d-cbf4-48f1-a176-604948296b8d",
   "metadata": {},
   "source": [
    "Looking at the city names it appears that the first word represent the city. We will rename these cities based on the first word."
   ]
  },
  {
   "cell_type": "code",
   "execution_count": 14,
   "id": "cd3b8769-cc48-4ca5-ab35-ebb5a6dfe999",
   "metadata": {},
   "outputs": [],
   "source": [
    "df.replace({'city':{'ULVERSTONE TO MEADOW MEWS TEMPZONE 2':'Ulverstone',\n",
    "                    'JUNCTION DD DUMMY': 'Junction',\n",
    "                    'YARRAVILLE DOORDASH DUMMY': 'Yarrraville',\n",
    "                    'BUSSELTON DOOR DASH DUMMY': 'Busselton',\n",
    "                    'BELCONNEN DOORDASH DUMMY': 'Belconnen',\n",
    "                    'CANBERRA CIVIC DOORDASH DUMMY': 'Canberra',\n",
    "                    'Hdportsorellport': 'Brisbane'}},inplace=True)"
   ]
  },
  {
   "cell_type": "code",
   "execution_count": 15,
   "id": "3bb080d4-5f5e-4e2c-a9f8-8daf80feb705",
   "metadata": {},
   "outputs": [],
   "source": [
    "df.loc[df.city=='Junction', 'state'] = 'NSW'"
   ]
  },
  {
   "cell_type": "markdown",
   "id": "ecacd5b8-6804-42ad-bb90-65834cf59216",
   "metadata": {},
   "source": [
    "For readability, convert the values of the column **city** to lowercase."
   ]
  },
  {
   "cell_type": "code",
   "execution_count": 89,
   "id": "b4aab034-79c1-46f1-aae4-846715e8e5e0",
   "metadata": {},
   "outputs": [],
   "source": [
    "df['city'] = df.city.str.title()"
   ]
  },
  {
   "cell_type": "code",
   "execution_count": 16,
   "id": "20bda53e-866d-464d-b9f4-a58d4cdce124",
   "metadata": {},
   "outputs": [],
   "source": [
    "# Convert RunDate to datetime\n",
    "df['run_date'] = pd.to_datetime(df['run_date'], errors='coerce')\n",
    "\n",
    "# Convert numeric columns\n",
    "numeric_cols = ['package_price', 'unit_price']\n",
    "df[numeric_cols] = df[numeric_cols].apply(pd.to_numeric, errors='coerce')"
   ]
  },
  {
   "cell_type": "code",
   "execution_count": 17,
   "id": "936ad925-57a9-440f-82b1-b48034a2cf28",
   "metadata": {},
   "outputs": [],
   "source": [
    "# Extract numeric value and unit (e.g., \"1.2kg\" -> 1.2, \"kg\")\n",
    "df[['package_qty', 'package_unit']] = df['package_size'].str.extract(r'([\\d\\.]+)\\s*([A-Za-z]+)')\n",
    "df['package_qty'] = pd.to_numeric(df.package_qty, errors=\"coerce\")"
   ]
  },
  {
   "cell_type": "code",
   "execution_count": 18,
   "id": "9ebe6545-a551-4761-93e0-6f2a70016cd0",
   "metadata": {},
   "outputs": [],
   "source": [
    "df.drop_duplicates(inplace=True)\n",
    "df.fillna({'Brand': 'Unknown', 'Package_price': df['package_price'].median()}, inplace=True)"
   ]
  },
  {
   "cell_type": "code",
   "execution_count": 19,
   "id": "6024038e-6522-4419-975f-b2ec72dbb8ba",
   "metadata": {},
   "outputs": [],
   "source": [
    "df.dropna(inplace=True)"
   ]
  },
  {
   "cell_type": "code",
   "execution_count": 20,
   "id": "f094da94-d3b7-406b-9852-bde665d09d3b",
   "metadata": {},
   "outputs": [
    {
     "data": {
      "text/plain": [
       "(485486, 22)"
      ]
     },
     "execution_count": 20,
     "metadata": {},
     "output_type": "execute_result"
    }
   ],
   "source": [
    "df.shape"
   ]
  },
  {
   "cell_type": "markdown",
   "id": "54c9d747-36d1-4369-abeb-407ea3eb5136",
   "metadata": {},
   "source": [
    "# Exploratory Data Analysis #"
   ]
  },
  {
   "cell_type": "code",
   "execution_count": 106,
   "id": "32f097f7-274e-44e5-9ced-1661877ab2dc",
   "metadata": {},
   "outputs": [
    {
     "data": {
      "image/png": "[encoded data removed]",
      "text/plain": [
       "<Figure size 1200x600 with 1 Axes>"
      ]
     },
     "metadata": {},
     "output_type": "display_data"
    },
    {
     "data": {
      "text/plain": [
       "index             0.0\n",
       "postal_code       0.0\n",
       "category          0.0\n",
       "sub_category      0.0\n",
       "product_group     0.0\n",
       "product_name      0.0\n",
       "package_price     0.0\n",
       "price_per_unit    0.0\n",
       "package_size      0.0\n",
       "is_estimated      0.0\n",
       "dtype: float64"
      ]
     },
     "execution_count": 106,
     "metadata": {},
     "output_type": "execute_result"
    }
   ],
   "source": [
    "# Missing value heatmap\n",
    "plt.figure(figsize=(12,6))\n",
    "sns.heatmap(df.isnull(), cbar=False)\n",
    "plt.title(\"Missing Data Heatmap\")\n",
    "plt.show()\n",
    "\n",
    "# Summary of missingness (%)\n",
    "(df.isnull().mean()*100).round(2).sort_values(ascending=False).head(10)\n"
   ]
  },
  {
   "cell_type": "markdown",
   "id": "60f8afbd-5491-4527-a739-91316b218fb4",
   "metadata": {},
   "source": [
    "### Category & Brand Summary ###"
   ]
  },
  {
   "cell_type": "code",
   "execution_count": 5,
   "id": "2cb645c7-f2c6-4789-99f7-9ac713f0410a",
   "metadata": {},
   "outputs": [
    {
     "data": {
      "text/html": [
       "<div>\n",
       "<style scoped>\n",
       "    .dataframe tbody tr th:only-of-type {\n",
       "        vertical-align: middle;\n",
       "    }\n",
       "\n",
       "    .dataframe tbody tr th {\n",
       "        vertical-align: top;\n",
       "    }\n",
       "\n",
       "    .dataframe thead th {\n",
       "        text-align: right;\n",
       "    }\n",
       "</style>\n",
       "<table border=\"1\" class=\"dataframe\">\n",
       "  <thead>\n",
       "    <tr style=\"text-align: right;\">\n",
       "      <th></th>\n",
       "      <th>brand</th>\n",
       "      <th>total</th>\n",
       "    </tr>\n",
       "  </thead>\n",
       "  <tbody>\n",
       "    <tr>\n",
       "      <th>0</th>\n",
       "      <td>Coles</td>\n",
       "      <td>89280</td>\n",
       "    </tr>\n",
       "    <tr>\n",
       "      <th>1</th>\n",
       "      <td>Cadbury</td>\n",
       "      <td>10450</td>\n",
       "    </tr>\n",
       "    <tr>\n",
       "      <th>2</th>\n",
       "      <td>Kellogg's</td>\n",
       "      <td>8414</td>\n",
       "    </tr>\n",
       "    <tr>\n",
       "      <th>3</th>\n",
       "      <td>Nescafe</td>\n",
       "      <td>8054</td>\n",
       "    </tr>\n",
       "    <tr>\n",
       "      <th>4</th>\n",
       "      <td>Arnott's</td>\n",
       "      <td>7788</td>\n",
       "    </tr>\n",
       "    <tr>\n",
       "      <th>5</th>\n",
       "      <td>Uncle Tobys</td>\n",
       "      <td>6740</td>\n",
       "    </tr>\n",
       "    <tr>\n",
       "      <th>6</th>\n",
       "      <td>Vittoria</td>\n",
       "      <td>6510</td>\n",
       "    </tr>\n",
       "    <tr>\n",
       "      <th>7</th>\n",
       "      <td>Twinings</td>\n",
       "      <td>5834</td>\n",
       "    </tr>\n",
       "    <tr>\n",
       "      <th>8</th>\n",
       "      <td>Bega</td>\n",
       "      <td>5823</td>\n",
       "    </tr>\n",
       "    <tr>\n",
       "      <th>9</th>\n",
       "      <td>Nestle</td>\n",
       "      <td>5156</td>\n",
       "    </tr>\n",
       "  </tbody>\n",
       "</table>\n",
       "</div>"
      ],
      "text/plain": [
       "         brand  total\n",
       "0        Coles  89280\n",
       "1      Cadbury  10450\n",
       "2    Kellogg's   8414\n",
       "3      Nescafe   8054\n",
       "4     Arnott's   7788\n",
       "5  Uncle Tobys   6740\n",
       "6     Vittoria   6510\n",
       "7     Twinings   5834\n",
       "8         Bega   5823\n",
       "9       Nestle   5156"
      ]
     },
     "execution_count": 5,
     "metadata": {},
     "output_type": "execute_result"
    }
   ],
   "source": [
    "top_brands = df.groupby('brand').size().sort_values(ascending=False).head(10).reset_index(name='total')\n",
    "top_brands"
   ]
  },
  {
   "cell_type": "code",
   "execution_count": 20,
   "id": "d5ea881e-d719-4477-89db-2ddd0d0d67b6",
   "metadata": {},
   "outputs": [
    {
     "data": {
      "image/png": "[encoded data removed]",
      "text/plain": [
       "<Figure size 800x300 with 1 Axes>"
      ]
     },
     "metadata": {},
     "output_type": "display_data"
    }
   ],
   "source": [
    "# plt.figure(figsize=(10, 6))\n",
    "# plt.rcParams['figure.figsize'] = (10, 6)  # sets default size for all future plots\n",
    "\n",
    "sns.barplot(data=top_brands, x='total', y='brand')\n",
    "plt.xlabel(\"Total count\")\n",
    "plt.ylabel(\"Brands\")\n",
    "plt.title(\"Count of top 10 brands\")\n",
    "# plt.tight_layout()\n",
    "fig = plt.gcf()                # Get the current figure object\n",
    "fig.set_size_inches(8, 3)  \n",
    "\n",
    "# plt.savefig(\"sample1.png\", bbox_inches=\"tight\", dpi=300)\n",
    "\n",
    "plt.show()\n",
    "\n"
   ]
  },
  {
   "cell_type": "code",
   "execution_count": null,
   "id": "c40452cb-7f33-434a-8c4b-6e12f7eac5ac",
   "metadata": {},
   "outputs": [],
   "source": []
  },
  {
   "cell_type": "code",
   "execution_count": 21,
   "id": "c342df10-2ccf-43ae-a95a-ddf27de73fdf",
   "metadata": {},
   "outputs": [
    {
     "data": {
      "image/png": "[encoded data removed]",
      "text/plain": [
       "<Figure size 1000x600 with 1 Axes>"
      ]
     },
     "metadata": {},
     "output_type": "display_data"
    },
    {
     "data": {
      "image/png": "[encoded data removed]",
      "text/plain": [
       "<Figure size 1000x600 with 1 Axes>"
      ]
     },
     "metadata": {},
     "output_type": "display_data"
    }
   ],
   "source": [
    "cat_count = df['category'].value_counts()\n",
    "brand_count = df['brand'].value_counts().head(10)\n",
    "\n",
    "# plt.figure(figsize=(10,5))\n",
    "sns.barplot(x=cat_count.values, y=cat_count.index)\n",
    "plt.title(\"Product Count by Category\")\n",
    "plt.xlabel(\"Count\")\n",
    "plt.ylabel(\"Category\")\n",
    "plt.show()\n",
    "\n",
    "# plt.figure(figsize=(10,5))\n",
    "sns.barplot(x=brand_count.values, y=brand_count.index)\n",
    "plt.title(\"Top 10 Brands by Product Count\")\n",
    "plt.xlabel(\"Count\")\n",
    "plt.ylabel(\"Brand\")\n",
    "plt.show()\n"
   ]
  },
  {
   "cell_type": "markdown",
   "id": "4e2c40ca-3694-46bf-ade3-1685f959f90c",
   "metadata": {},
   "source": [
    "### Package vs Unit Price Relationship ###"
   ]
  },
  {
   "cell_type": "code",
   "execution_count": 18,
   "id": "8e508d8e-9f6f-4f5a-b8e0-3f8d2d569798",
   "metadata": {},
   "outputs": [
    {
     "data": {
      "image/png": "[encoded data removed]",
      "text/plain": [
       "<Figure size 700x500 with 1 Axes>"
      ]
     },
     "metadata": {},
     "output_type": "display_data"
    },
    {
     "name": "stdout",
     "output_type": "stream",
     "text": [
      "               package_price  unit_price\n",
      "package_price       1.000000    0.223679\n",
      "unit_price          0.223679    1.000000\n"
     ]
    }
   ],
   "source": [
    "plt.figure(figsize=(7,5))\n",
    "sns.scatterplot(x='unit_price', y='package_price', hue='category', data=df, alpha=0.6)\n",
    "plt.title(\"Unit Price vs Package Price\")\n",
    "plt.show()\n",
    "\n",
    "corr = df[['package_price', 'unit_price']].corr()\n",
    "print(corr)\n"
   ]
  },
  {
   "cell_type": "markdown",
   "id": "ef114cfb-e8b0-4c21-a709-6f9d6f072b82",
   "metadata": {},
   "source": [
    "### Price Distribution by Category ###"
   ]
  },
  {
   "cell_type": "code",
   "execution_count": 112,
   "id": "4299c703-78e6-4df5-999d-f6f80c8f45a8",
   "metadata": {},
   "outputs": [
    {
     "data": {
      "image/png": "[encoded data removed]",
      "text/plain": [
       "<Figure size 1200x600 with 1 Axes>"
      ]
     },
     "metadata": {},
     "output_type": "display_data"
    }
   ],
   "source": [
    "plt.figure(figsize=(12,6))\n",
    "sns.boxplot(x='category', y='package_price', data=df)\n",
    "plt.xticks(rotation=45)\n",
    "plt.title(\"Price Distribution by Category\")\n",
    "plt.show()"
   ]
  },
  {
   "cell_type": "markdown",
   "id": "6db859c4-761c-4c06-9f57-ba3c31a6c2ea",
   "metadata": {},
   "source": [
    "### Average Price by State or City ###"
   ]
  },
  {
   "cell_type": "code",
   "execution_count": 113,
   "id": "c9aacfb1-c019-472c-8ffb-582e9567bea8",
   "metadata": {},
   "outputs": [
    {
     "data": {
      "image/png": "[encoded data removed]",
      "text/plain": [
       "<Figure size 800x600 with 1 Axes>"
      ]
     },
     "metadata": {},
     "output_type": "display_data"
    }
   ],
   "source": [
    "avg_city = df.groupby('city')['package_price'].mean().sort_values(ascending=False).head(15)\n",
    "avg_city.plot(kind='barh', figsize=(8,6), title=\"Average Package Price by City\")\n",
    "plt.xlabel(\"Average Price ($)\")\n",
    "plt.show()\n"
   ]
  },
  {
   "cell_type": "markdown",
   "id": "dd862842-0f39-44b1-aefe-5da27a86799c",
   "metadata": {},
   "source": [
    "### Price Variation Across States ###"
   ]
  },
  {
   "cell_type": "code",
   "execution_count": 114,
   "id": "5e0d87d3-db87-4cf9-a0c1-2e291a5e8133",
   "metadata": {},
   "outputs": [
    {
     "data": {
      "image/png": "[encoded data removed]",
      "text/plain": [
       "<Figure size 800x500 with 1 Axes>"
      ]
     },
     "metadata": {},
     "output_type": "display_data"
    }
   ],
   "source": [
    "plt.figure(figsize=(8,5))\n",
    "sns.boxplot(x='state', y='package_price', data=df)\n",
    "plt.title(\"Package Price Distribution by State\")\n",
    "plt.show()\n"
   ]
  },
  {
   "cell_type": "code",
   "execution_count": 115,
   "id": "329d1d36-2f4f-42ef-a55b-e89cda9aa119",
   "metadata": {},
   "outputs": [
    {
     "data": {
      "image/png": "[encoded data removed]",
      "text/plain": [
       "<Figure size 1000x500 with 1 Axes>"
      ]
     },
     "metadata": {},
     "output_type": "display_data"
    }
   ],
   "source": [
    "top_category = df['category'].value_counts().index[0]\n",
    "top_cat_df = df[df['category'] == top_category]\n",
    "\n",
    "plt.figure(figsize=(10,5))\n",
    "sns.countplot(y='brand', data=top_cat_df, order=top_cat_df['brand'].value_counts().index[:10])\n",
    "plt.title(f\"Top 10 Brands in {top_category}\")\n",
    "plt.show()\n"
   ]
  },
  {
   "cell_type": "code",
   "execution_count": 116,
   "id": "49aa26de-a642-429b-a661-a5239b47d07c",
   "metadata": {},
   "outputs": [
    {
     "data": {
      "image/png": "[encoded data removed]",
      "text/plain": [
       "<Figure size 640x480 with 1 Axes>"
      ]
     },
     "metadata": {},
     "output_type": "display_data"
    }
   ],
   "source": [
    "sns.boxplot(x=df['package_price'])\n",
    "plt.title(\"Outlier Check for Package Price\")\n",
    "plt.show()\n"
   ]
  },
  {
   "cell_type": "code",
   "execution_count": 117,
   "id": "53dbfb4c-0dec-4d95-ab18-5cf4bd8e08a1",
   "metadata": {},
   "outputs": [
    {
     "data": {
      "image/png": "[encoded data removed]",
      "text/plain": [
       "<Figure size 640x480 with 1 Axes>"
      ]
     },
     "metadata": {},
     "output_type": "display_data"
    }
   ],
   "source": [
    "df['run_date'] = pd.to_datetime(df['run_date'])\n",
    "daily_price = df.groupby('run_date')['package_price'].mean().reset_index()\n",
    "sns.lineplot(data=daily_price, x='run_date', y='package_price')\n",
    "plt.title(\"Average Package Price Over Time\")\n",
    "plt.show()\n"
   ]
  },
  {
   "cell_type": "code",
   "execution_count": 21,
   "id": "b3b37cff-4ea8-47b4-b7bf-1fbce4475bc0",
   "metadata": {},
   "outputs": [
    {
     "data": {
      "text/plain": [
       "sub_category\n",
       "Beef & veal                       6461\n",
       "Breakfast                        34275\n",
       "Cheese                           33628\n",
       "Chips, crackers & snacks         96581\n",
       "Coffee                           23616\n",
       "Coffee Drinks                    23756\n",
       "Confectionery                    51574\n",
       "Dairy                            20484\n",
       "Eggs                              1845\n",
       "Energy drinks                     3755\n",
       "Fruit                             6073\n",
       "Jams, honey & spreads            16584\n",
       "Lamb                              2985\n",
       "Milk                             11788\n",
       "Mince                             1349\n",
       "Oils & vinegars                  11153\n",
       "Packaged Breads                   8406\n",
       "Packaged Cakes & Sweet Treats     8413\n",
       "Pork                              3475\n",
       "Poultry                           9136\n",
       "Sauces                           34982\n",
       "Seafood                           9268\n",
       "Soft drinks                      18807\n",
       "Sports drinks                     2890\n",
       "Tea                              15648\n",
       "Tea Drinks                       15675\n",
       "Vegetables                       16033\n",
       "Name: brand, dtype: int64"
      ]
     },
     "execution_count": 21,
     "metadata": {},
     "output_type": "execute_result"
    }
   ],
   "source": [
    "df.groupby('sub_category')['brand'].count()"
   ]
  },
  {
   "cell_type": "code",
   "execution_count": 11,
   "id": "0ea9fe06-dc20-4035-b577-03cd9c76489f",
   "metadata": {},
   "outputs": [
    {
     "name": "stdout",
     "output_type": "stream",
     "text": [
      "                     sub_category  count\n",
      "0                     Beef & veal   6461\n",
      "1                       Breakfast  34275\n",
      "2                          Cheese  33628\n",
      "3        Chips, crackers & snacks  96581\n",
      "4                          Coffee  23616\n",
      "5                   Coffee Drinks  23756\n",
      "6                   Confectionery  51574\n",
      "7                           Dairy  20484\n",
      "8                            Eggs   1845\n",
      "9                   Energy drinks   3755\n",
      "10                          Fruit   6073\n",
      "11          Jams, honey & spreads  16584\n",
      "12                           Lamb   2985\n",
      "13                           Milk  11788\n",
      "14                          Mince   1349\n",
      "15                Oils & vinegars  11153\n",
      "16                Packaged Breads   8406\n",
      "17  Packaged Cakes & Sweet Treats   8413\n",
      "18                           Pork   3475\n",
      "19                        Poultry   9136\n",
      "20                         Sauces  34982\n",
      "21                        Seafood   9268\n",
      "22                    Soft drinks  18807\n",
      "23                  Sports drinks   2890\n",
      "24                            Tea  15648\n",
      "25                     Tea Drinks  15675\n",
      "26                     Vegetables  16033\n"
     ]
    }
   ],
   "source": [
    "summary = df.groupby('sub_category')['brand'].count().reset_index(name='count')\n",
    "\n",
    "# summary['percent'] = (summary['count'] / summary['count'].sum()) * 100\n",
    "print(summary)\n"
   ]
  },
  {
   "cell_type": "code",
   "execution_count": 25,
   "id": "63bb6a10-813f-485f-a1b1-1b4feb46f9b4",
   "metadata": {},
   "outputs": [
    {
     "data": {
      "text/html": [
       "<div>\n",
       "<style scoped>\n",
       "    .dataframe tbody tr th:only-of-type {\n",
       "        vertical-align: middle;\n",
       "    }\n",
       "\n",
       "    .dataframe tbody tr th {\n",
       "        vertical-align: top;\n",
       "    }\n",
       "\n",
       "    .dataframe thead th {\n",
       "        text-align: right;\n",
       "    }\n",
       "</style>\n",
       "<table border=\"1\" class=\"dataframe\">\n",
       "  <thead>\n",
       "    <tr style=\"text-align: right;\">\n",
       "      <th></th>\n",
       "      <th>sub_category</th>\n",
       "      <th>total</th>\n",
       "    </tr>\n",
       "  </thead>\n",
       "  <tbody>\n",
       "    <tr>\n",
       "      <th>0</th>\n",
       "      <td>Beef &amp; veal</td>\n",
       "      <td>6461</td>\n",
       "    </tr>\n",
       "    <tr>\n",
       "      <th>1</th>\n",
       "      <td>Breakfast</td>\n",
       "      <td>34275</td>\n",
       "    </tr>\n",
       "    <tr>\n",
       "      <th>2</th>\n",
       "      <td>Cheese</td>\n",
       "      <td>33628</td>\n",
       "    </tr>\n",
       "    <tr>\n",
       "      <th>3</th>\n",
       "      <td>Chips, crackers &amp; snacks</td>\n",
       "      <td>96581</td>\n",
       "    </tr>\n",
       "    <tr>\n",
       "      <th>4</th>\n",
       "      <td>Coffee</td>\n",
       "      <td>23616</td>\n",
       "    </tr>\n",
       "    <tr>\n",
       "      <th>5</th>\n",
       "      <td>Coffee Drinks</td>\n",
       "      <td>23756</td>\n",
       "    </tr>\n",
       "    <tr>\n",
       "      <th>6</th>\n",
       "      <td>Confectionery</td>\n",
       "      <td>51574</td>\n",
       "    </tr>\n",
       "    <tr>\n",
       "      <th>7</th>\n",
       "      <td>Dairy</td>\n",
       "      <td>20484</td>\n",
       "    </tr>\n",
       "    <tr>\n",
       "      <th>8</th>\n",
       "      <td>Eggs</td>\n",
       "      <td>1845</td>\n",
       "    </tr>\n",
       "    <tr>\n",
       "      <th>9</th>\n",
       "      <td>Energy drinks</td>\n",
       "      <td>3755</td>\n",
       "    </tr>\n",
       "    <tr>\n",
       "      <th>10</th>\n",
       "      <td>Fruit</td>\n",
       "      <td>6073</td>\n",
       "    </tr>\n",
       "    <tr>\n",
       "      <th>11</th>\n",
       "      <td>Jams, honey &amp; spreads</td>\n",
       "      <td>16584</td>\n",
       "    </tr>\n",
       "    <tr>\n",
       "      <th>12</th>\n",
       "      <td>Lamb</td>\n",
       "      <td>2985</td>\n",
       "    </tr>\n",
       "    <tr>\n",
       "      <th>13</th>\n",
       "      <td>Milk</td>\n",
       "      <td>11788</td>\n",
       "    </tr>\n",
       "    <tr>\n",
       "      <th>14</th>\n",
       "      <td>Mince</td>\n",
       "      <td>1349</td>\n",
       "    </tr>\n",
       "    <tr>\n",
       "      <th>15</th>\n",
       "      <td>Oils &amp; vinegars</td>\n",
       "      <td>11153</td>\n",
       "    </tr>\n",
       "    <tr>\n",
       "      <th>16</th>\n",
       "      <td>Packaged Breads</td>\n",
       "      <td>8406</td>\n",
       "    </tr>\n",
       "    <tr>\n",
       "      <th>17</th>\n",
       "      <td>Packaged Cakes &amp; Sweet Treats</td>\n",
       "      <td>8413</td>\n",
       "    </tr>\n",
       "    <tr>\n",
       "      <th>18</th>\n",
       "      <td>Pork</td>\n",
       "      <td>3475</td>\n",
       "    </tr>\n",
       "    <tr>\n",
       "      <th>19</th>\n",
       "      <td>Poultry</td>\n",
       "      <td>9136</td>\n",
       "    </tr>\n",
       "    <tr>\n",
       "      <th>20</th>\n",
       "      <td>Sauces</td>\n",
       "      <td>34982</td>\n",
       "    </tr>\n",
       "    <tr>\n",
       "      <th>21</th>\n",
       "      <td>Seafood</td>\n",
       "      <td>9268</td>\n",
       "    </tr>\n",
       "    <tr>\n",
       "      <th>22</th>\n",
       "      <td>Soft drinks</td>\n",
       "      <td>18807</td>\n",
       "    </tr>\n",
       "    <tr>\n",
       "      <th>23</th>\n",
       "      <td>Sports drinks</td>\n",
       "      <td>2890</td>\n",
       "    </tr>\n",
       "    <tr>\n",
       "      <th>24</th>\n",
       "      <td>Tea</td>\n",
       "      <td>15648</td>\n",
       "    </tr>\n",
       "    <tr>\n",
       "      <th>25</th>\n",
       "      <td>Tea Drinks</td>\n",
       "      <td>15675</td>\n",
       "    </tr>\n",
       "    <tr>\n",
       "      <th>26</th>\n",
       "      <td>Vegetables</td>\n",
       "      <td>16033</td>\n",
       "    </tr>\n",
       "  </tbody>\n",
       "</table>\n",
       "</div>"
      ],
      "text/plain": [
       "                     sub_category  total\n",
       "0                     Beef & veal   6461\n",
       "1                       Breakfast  34275\n",
       "2                          Cheese  33628\n",
       "3        Chips, crackers & snacks  96581\n",
       "4                          Coffee  23616\n",
       "5                   Coffee Drinks  23756\n",
       "6                   Confectionery  51574\n",
       "7                           Dairy  20484\n",
       "8                            Eggs   1845\n",
       "9                   Energy drinks   3755\n",
       "10                          Fruit   6073\n",
       "11          Jams, honey & spreads  16584\n",
       "12                           Lamb   2985\n",
       "13                           Milk  11788\n",
       "14                          Mince   1349\n",
       "15                Oils & vinegars  11153\n",
       "16                Packaged Breads   8406\n",
       "17  Packaged Cakes & Sweet Treats   8413\n",
       "18                           Pork   3475\n",
       "19                        Poultry   9136\n",
       "20                         Sauces  34982\n",
       "21                        Seafood   9268\n",
       "22                    Soft drinks  18807\n",
       "23                  Sports drinks   2890\n",
       "24                            Tea  15648\n",
       "25                     Tea Drinks  15675\n",
       "26                     Vegetables  16033"
      ]
     },
     "execution_count": 25,
     "metadata": {},
     "output_type": "execute_result"
    }
   ],
   "source": [
    "df.groupby('sub_category', as_index=False).agg(total=('brand','count'))\n",
    "\n",
    "# x.agg(average=('total','mean')).sort_values(by=['total'],ascending=False)"
   ]
  },
  {
   "cell_type": "code",
   "execution_count": 140,
   "id": "9d8ac85b-bb68-4fbf-ba09-b962c07dd81a",
   "metadata": {},
   "outputs": [
    {
     "data": {
      "image/png": "[encoded data removed]",
      "text/plain": [
       "<Figure size 640x480 with 1 Axes>"
      ]
     },
     "metadata": {},
     "output_type": "display_data"
    }
   ],
   "source": [
    "x = sns.boxplot(x='sub_category', y='unit_price', data=df)\n",
    "x.set(xlabel=\"Category\", ylabel=\"Price\", title='Various Prices of the Listings')\n",
    "plt.xticks(rotation=90)   # Rotate labels vertically\n",
    "plt.show()\n"
   ]
  },
  {
   "cell_type": "code",
   "execution_count": 141,
   "id": "a96ad158-322e-4dd5-9d73-d26eca774965",
   "metadata": {},
   "outputs": [
    {
     "data": {
      "text/html": [
       "<div>\n",
       "<style scoped>\n",
       "    .dataframe tbody tr th:only-of-type {\n",
       "        vertical-align: middle;\n",
       "    }\n",
       "\n",
       "    .dataframe tbody tr th {\n",
       "        vertical-align: top;\n",
       "    }\n",
       "\n",
       "    .dataframe thead th {\n",
       "        text-align: right;\n",
       "    }\n",
       "</style>\n",
       "<table border=\"1\" class=\"dataframe\">\n",
       "  <thead>\n",
       "    <tr style=\"text-align: right;\">\n",
       "      <th></th>\n",
       "      <th>index</th>\n",
       "      <th>postal_code</th>\n",
       "      <th>category</th>\n",
       "      <th>sub_category</th>\n",
       "      <th>product_group</th>\n",
       "      <th>product_name</th>\n",
       "      <th>package_price</th>\n",
       "      <th>price_per_unit</th>\n",
       "      <th>package_size</th>\n",
       "      <th>is_estimated</th>\n",
       "      <th>...</th>\n",
       "      <th>run_date</th>\n",
       "      <th>unit_price</th>\n",
       "      <th>unit_price_unit</th>\n",
       "      <th>state</th>\n",
       "      <th>city</th>\n",
       "      <th>tid</th>\n",
       "      <th>full_form</th>\n",
       "      <th>package_qty</th>\n",
       "      <th>package_unit</th>\n",
       "      <th>is_outlier</th>\n",
       "    </tr>\n",
       "  </thead>\n",
       "  <tbody>\n",
       "    <tr>\n",
       "      <th>524</th>\n",
       "      <td>524</td>\n",
       "      <td>2044</td>\n",
       "      <td>Fruit &amp; vegetables</td>\n",
       "      <td>Vegetables</td>\n",
       "      <td>Asparagus, fennel &amp; artichokes</td>\n",
       "      <td>Green Asparagus</td>\n",
       "      <td>1.90</td>\n",
       "      <td>$1.90 per 1Ea</td>\n",
       "      <td>1 bunch</td>\n",
       "      <td>0</td>\n",
       "      <td>...</td>\n",
       "      <td>2022-11-09 08:23:06</td>\n",
       "      <td>1.9</td>\n",
       "      <td>1Ea</td>\n",
       "      <td>NSW</td>\n",
       "      <td>Tempe</td>\n",
       "      <td>29743092</td>\n",
       "      <td>New South Wales</td>\n",
       "      <td>1.0</td>\n",
       "      <td>bunch</td>\n",
       "      <td>False</td>\n",
       "    </tr>\n",
       "    <tr>\n",
       "      <th>525</th>\n",
       "      <td>525</td>\n",
       "      <td>2044</td>\n",
       "      <td>Fruit &amp; vegetables</td>\n",
       "      <td>Vegetables</td>\n",
       "      <td>Asparagus, fennel &amp; artichokes</td>\n",
       "      <td>Mini Asparagus</td>\n",
       "      <td>1.90</td>\n",
       "      <td>$1.90 per 1Ea</td>\n",
       "      <td>1 bunch</td>\n",
       "      <td>0</td>\n",
       "      <td>...</td>\n",
       "      <td>2022-11-09 08:23:06</td>\n",
       "      <td>1.9</td>\n",
       "      <td>1Ea</td>\n",
       "      <td>NSW</td>\n",
       "      <td>Tempe</td>\n",
       "      <td>29743093</td>\n",
       "      <td>New South Wales</td>\n",
       "      <td>1.0</td>\n",
       "      <td>bunch</td>\n",
       "      <td>False</td>\n",
       "    </tr>\n",
       "    <tr>\n",
       "      <th>526</th>\n",
       "      <td>526</td>\n",
       "      <td>2044</td>\n",
       "      <td>Fruit &amp; vegetables</td>\n",
       "      <td>Vegetables</td>\n",
       "      <td>Asparagus, fennel &amp; artichokes</td>\n",
       "      <td>Fennel</td>\n",
       "      <td>2.50</td>\n",
       "      <td>$2.50 per 1Ea</td>\n",
       "      <td>1 bunch</td>\n",
       "      <td>0</td>\n",
       "      <td>...</td>\n",
       "      <td>2022-11-09 08:23:06</td>\n",
       "      <td>2.5</td>\n",
       "      <td>1Ea</td>\n",
       "      <td>NSW</td>\n",
       "      <td>Tempe</td>\n",
       "      <td>29743094</td>\n",
       "      <td>New South Wales</td>\n",
       "      <td>1.0</td>\n",
       "      <td>bunch</td>\n",
       "      <td>False</td>\n",
       "    </tr>\n",
       "    <tr>\n",
       "      <th>527</th>\n",
       "      <td>527</td>\n",
       "      <td>2044</td>\n",
       "      <td>Fruit &amp; vegetables</td>\n",
       "      <td>Vegetables</td>\n",
       "      <td>Asparagus, fennel &amp; artichokes</td>\n",
       "      <td>Asparagus Entertainer Large</td>\n",
       "      <td>2.90</td>\n",
       "      <td>$2.90 per 1Ea</td>\n",
       "      <td>1 bunch</td>\n",
       "      <td>0</td>\n",
       "      <td>...</td>\n",
       "      <td>2022-11-09 08:23:06</td>\n",
       "      <td>2.9</td>\n",
       "      <td>1Ea</td>\n",
       "      <td>NSW</td>\n",
       "      <td>Tempe</td>\n",
       "      <td>29743095</td>\n",
       "      <td>New South Wales</td>\n",
       "      <td>1.0</td>\n",
       "      <td>bunch</td>\n",
       "      <td>False</td>\n",
       "    </tr>\n",
       "    <tr>\n",
       "      <th>528</th>\n",
       "      <td>528</td>\n",
       "      <td>2044</td>\n",
       "      <td>Fruit &amp; vegetables</td>\n",
       "      <td>Vegetables</td>\n",
       "      <td>Asparagus, fennel &amp; artichokes</td>\n",
       "      <td>Organic Green Asparagus</td>\n",
       "      <td>5.50</td>\n",
       "      <td>$5.50 per 1Ea</td>\n",
       "      <td>1 bunch</td>\n",
       "      <td>0</td>\n",
       "      <td>...</td>\n",
       "      <td>2022-11-09 08:23:06</td>\n",
       "      <td>5.5</td>\n",
       "      <td>1Ea</td>\n",
       "      <td>NSW</td>\n",
       "      <td>Tempe</td>\n",
       "      <td>29743096</td>\n",
       "      <td>New South Wales</td>\n",
       "      <td>1.0</td>\n",
       "      <td>bunch</td>\n",
       "      <td>False</td>\n",
       "    </tr>\n",
       "    <tr>\n",
       "      <th>...</th>\n",
       "      <td>...</td>\n",
       "      <td>...</td>\n",
       "      <td>...</td>\n",
       "      <td>...</td>\n",
       "      <td>...</td>\n",
       "      <td>...</td>\n",
       "      <td>...</td>\n",
       "      <td>...</td>\n",
       "      <td>...</td>\n",
       "      <td>...</td>\n",
       "      <td>...</td>\n",
       "      <td>...</td>\n",
       "      <td>...</td>\n",
       "      <td>...</td>\n",
       "      <td>...</td>\n",
       "      <td>...</td>\n",
       "      <td>...</td>\n",
       "      <td>...</td>\n",
       "      <td>...</td>\n",
       "      <td>...</td>\n",
       "      <td>...</td>\n",
       "    </tr>\n",
       "    <tr>\n",
       "      <th>485654</th>\n",
       "      <td>485654</td>\n",
       "      <td>9601</td>\n",
       "      <td>Fruit &amp; vegetables</td>\n",
       "      <td>Vegetables</td>\n",
       "      <td>Spinach &amp; silverbeet</td>\n",
       "      <td>Spinach Bunch</td>\n",
       "      <td>4.90</td>\n",
       "      <td>$4.90 per 1Ea</td>\n",
       "      <td>1 each</td>\n",
       "      <td>0</td>\n",
       "      <td>...</td>\n",
       "      <td>2022-11-09 08:23:06</td>\n",
       "      <td>4.9</td>\n",
       "      <td>1Ea</td>\n",
       "      <td>ACT</td>\n",
       "      <td>Canberra</td>\n",
       "      <td>30228222</td>\n",
       "      <td>Australian Capital Territory</td>\n",
       "      <td>1.0</td>\n",
       "      <td>each</td>\n",
       "      <td>False</td>\n",
       "    </tr>\n",
       "    <tr>\n",
       "      <th>485655</th>\n",
       "      <td>485655</td>\n",
       "      <td>9601</td>\n",
       "      <td>Fruit &amp; vegetables</td>\n",
       "      <td>Vegetables</td>\n",
       "      <td>Turnips &amp; root vegetables</td>\n",
       "      <td>Radish</td>\n",
       "      <td>3.50</td>\n",
       "      <td>$3.50 per 1Ea</td>\n",
       "      <td>1 bunch</td>\n",
       "      <td>0</td>\n",
       "      <td>...</td>\n",
       "      <td>2022-11-09 08:23:06</td>\n",
       "      <td>3.5</td>\n",
       "      <td>1Ea</td>\n",
       "      <td>ACT</td>\n",
       "      <td>Canberra</td>\n",
       "      <td>30228223</td>\n",
       "      <td>Australian Capital Territory</td>\n",
       "      <td>1.0</td>\n",
       "      <td>bunch</td>\n",
       "      <td>False</td>\n",
       "    </tr>\n",
       "    <tr>\n",
       "      <th>485656</th>\n",
       "      <td>485656</td>\n",
       "      <td>9601</td>\n",
       "      <td>Fruit &amp; vegetables</td>\n",
       "      <td>Vegetables</td>\n",
       "      <td>Turnips &amp; root vegetables</td>\n",
       "      <td>Swedes Loose</td>\n",
       "      <td>1.38</td>\n",
       "      <td>$6.00 per 1Kg</td>\n",
       "      <td>approx. 230g each</td>\n",
       "      <td>1</td>\n",
       "      <td>...</td>\n",
       "      <td>2022-11-09 08:23:06</td>\n",
       "      <td>6.0</td>\n",
       "      <td>1Kg</td>\n",
       "      <td>ACT</td>\n",
       "      <td>Canberra</td>\n",
       "      <td>30228224</td>\n",
       "      <td>Australian Capital Territory</td>\n",
       "      <td>230.0</td>\n",
       "      <td>g</td>\n",
       "      <td>False</td>\n",
       "    </tr>\n",
       "    <tr>\n",
       "      <th>485657</th>\n",
       "      <td>485657</td>\n",
       "      <td>9601</td>\n",
       "      <td>Fruit &amp; vegetables</td>\n",
       "      <td>Vegetables</td>\n",
       "      <td>Turnips &amp; root vegetables</td>\n",
       "      <td>Fresh Turnips</td>\n",
       "      <td>1.08</td>\n",
       "      <td>$6.00 per 1Kg</td>\n",
       "      <td>approx. 180g each</td>\n",
       "      <td>1</td>\n",
       "      <td>...</td>\n",
       "      <td>2022-11-09 08:23:06</td>\n",
       "      <td>6.0</td>\n",
       "      <td>1Kg</td>\n",
       "      <td>ACT</td>\n",
       "      <td>Canberra</td>\n",
       "      <td>30228225</td>\n",
       "      <td>Australian Capital Territory</td>\n",
       "      <td>180.0</td>\n",
       "      <td>g</td>\n",
       "      <td>False</td>\n",
       "    </tr>\n",
       "    <tr>\n",
       "      <th>485658</th>\n",
       "      <td>485658</td>\n",
       "      <td>9601</td>\n",
       "      <td>Fruit &amp; vegetables</td>\n",
       "      <td>Vegetables</td>\n",
       "      <td>Turnips &amp; root vegetables</td>\n",
       "      <td>White Radish</td>\n",
       "      <td>4.50</td>\n",
       "      <td>$4.50 per 1Ea</td>\n",
       "      <td>1 each</td>\n",
       "      <td>0</td>\n",
       "      <td>...</td>\n",
       "      <td>2022-11-09 08:23:06</td>\n",
       "      <td>4.5</td>\n",
       "      <td>1Ea</td>\n",
       "      <td>ACT</td>\n",
       "      <td>Canberra</td>\n",
       "      <td>30228226</td>\n",
       "      <td>Australian Capital Territory</td>\n",
       "      <td>1.0</td>\n",
       "      <td>each</td>\n",
       "      <td>False</td>\n",
       "    </tr>\n",
       "  </tbody>\n",
       "</table>\n",
       "<p>15863 rows × 24 columns</p>\n",
       "</div>"
      ],
      "text/plain": [
       "         index  postal_code            category sub_category  \\\n",
       "524        524         2044  Fruit & vegetables   Vegetables   \n",
       "525        525         2044  Fruit & vegetables   Vegetables   \n",
       "526        526         2044  Fruit & vegetables   Vegetables   \n",
       "527        527         2044  Fruit & vegetables   Vegetables   \n",
       "528        528         2044  Fruit & vegetables   Vegetables   \n",
       "...        ...          ...                 ...          ...   \n",
       "485654  485654         9601  Fruit & vegetables   Vegetables   \n",
       "485655  485655         9601  Fruit & vegetables   Vegetables   \n",
       "485656  485656         9601  Fruit & vegetables   Vegetables   \n",
       "485657  485657         9601  Fruit & vegetables   Vegetables   \n",
       "485658  485658         9601  Fruit & vegetables   Vegetables   \n",
       "\n",
       "                         product_group                 product_name  \\\n",
       "524     Asparagus, fennel & artichokes              Green Asparagus   \n",
       "525     Asparagus, fennel & artichokes               Mini Asparagus   \n",
       "526     Asparagus, fennel & artichokes                       Fennel   \n",
       "527     Asparagus, fennel & artichokes  Asparagus Entertainer Large   \n",
       "528     Asparagus, fennel & artichokes      Organic Green Asparagus   \n",
       "...                                ...                          ...   \n",
       "485654            Spinach & silverbeet                Spinach Bunch   \n",
       "485655       Turnips & root vegetables                       Radish   \n",
       "485656       Turnips & root vegetables                 Swedes Loose   \n",
       "485657       Turnips & root vegetables                Fresh Turnips   \n",
       "485658       Turnips & root vegetables                 White Radish   \n",
       "\n",
       "        package_price price_per_unit       package_size  is_estimated  ...  \\\n",
       "524              1.90  $1.90 per 1Ea            1 bunch             0  ...   \n",
       "525              1.90  $1.90 per 1Ea            1 bunch             0  ...   \n",
       "526              2.50  $2.50 per 1Ea            1 bunch             0  ...   \n",
       "527              2.90  $2.90 per 1Ea            1 bunch             0  ...   \n",
       "528              5.50  $5.50 per 1Ea            1 bunch             0  ...   \n",
       "...               ...            ...                ...           ...  ...   \n",
       "485654           4.90  $4.90 per 1Ea             1 each             0  ...   \n",
       "485655           3.50  $3.50 per 1Ea            1 bunch             0  ...   \n",
       "485656           1.38  $6.00 per 1Kg  approx. 230g each             1  ...   \n",
       "485657           1.08  $6.00 per 1Kg  approx. 180g each             1  ...   \n",
       "485658           4.50  $4.50 per 1Ea             1 each             0  ...   \n",
       "\n",
       "                  run_date unit_price unit_price_unit state      city  \\\n",
       "524    2022-11-09 08:23:06        1.9             1Ea   NSW     Tempe   \n",
       "525    2022-11-09 08:23:06        1.9             1Ea   NSW     Tempe   \n",
       "526    2022-11-09 08:23:06        2.5             1Ea   NSW     Tempe   \n",
       "527    2022-11-09 08:23:06        2.9             1Ea   NSW     Tempe   \n",
       "528    2022-11-09 08:23:06        5.5             1Ea   NSW     Tempe   \n",
       "...                    ...        ...             ...   ...       ...   \n",
       "485654 2022-11-09 08:23:06        4.9             1Ea   ACT  Canberra   \n",
       "485655 2022-11-09 08:23:06        3.5             1Ea   ACT  Canberra   \n",
       "485656 2022-11-09 08:23:06        6.0             1Kg   ACT  Canberra   \n",
       "485657 2022-11-09 08:23:06        6.0             1Kg   ACT  Canberra   \n",
       "485658 2022-11-09 08:23:06        4.5             1Ea   ACT  Canberra   \n",
       "\n",
       "             tid                     full_form package_qty package_unit  \\\n",
       "524     29743092               New South Wales         1.0        bunch   \n",
       "525     29743093               New South Wales         1.0        bunch   \n",
       "526     29743094               New South Wales         1.0        bunch   \n",
       "527     29743095               New South Wales         1.0        bunch   \n",
       "528     29743096               New South Wales         1.0        bunch   \n",
       "...          ...                           ...         ...          ...   \n",
       "485654  30228222  Australian Capital Territory         1.0         each   \n",
       "485655  30228223  Australian Capital Territory         1.0        bunch   \n",
       "485656  30228224  Australian Capital Territory       230.0            g   \n",
       "485657  30228225  Australian Capital Territory       180.0            g   \n",
       "485658  30228226  Australian Capital Territory         1.0         each   \n",
       "\n",
       "        is_outlier  \n",
       "524          False  \n",
       "525          False  \n",
       "526          False  \n",
       "527          False  \n",
       "528          False  \n",
       "...            ...  \n",
       "485654       False  \n",
       "485655       False  \n",
       "485656       False  \n",
       "485657       False  \n",
       "485658       False  \n",
       "\n",
       "[15863 rows x 24 columns]"
      ]
     },
     "execution_count": 141,
     "metadata": {},
     "output_type": "execute_result"
    }
   ],
   "source": [
    "df.loc[df.sub_category=='Vegetables',]"
   ]
  },
  {
   "cell_type": "markdown",
   "id": "c7db01a4-bc78-41fc-86ad-712d6bc887ff",
   "metadata": {},
   "source": [
    "### Outlier detection ###"
   ]
  },
  {
   "cell_type": "code",
   "execution_count": 138,
   "id": "eaddd7eb-b20d-45cd-a03b-544c40ab5b55",
   "metadata": {},
   "outputs": [
    {
     "data": {
      "text/html": [
       "<div>\n",
       "<style scoped>\n",
       "    .dataframe tbody tr th:only-of-type {\n",
       "        vertical-align: middle;\n",
       "    }\n",
       "\n",
       "    .dataframe tbody tr th {\n",
       "        vertical-align: top;\n",
       "    }\n",
       "\n",
       "    .dataframe thead th {\n",
       "        text-align: right;\n",
       "    }\n",
       "</style>\n",
       "<table border=\"1\" class=\"dataframe\">\n",
       "  <thead>\n",
       "    <tr style=\"text-align: right;\">\n",
       "      <th></th>\n",
       "      <th>sub_category</th>\n",
       "      <th>unit_price</th>\n",
       "      <th>is_outlier</th>\n",
       "    </tr>\n",
       "  </thead>\n",
       "  <tbody>\n",
       "    <tr>\n",
       "      <th>5907</th>\n",
       "      <td>Coffee Drinks</td>\n",
       "      <td>12.00</td>\n",
       "      <td>True</td>\n",
       "    </tr>\n",
       "    <tr>\n",
       "      <th>5974</th>\n",
       "      <td>Coffee Drinks</td>\n",
       "      <td>12.00</td>\n",
       "      <td>True</td>\n",
       "    </tr>\n",
       "    <tr>\n",
       "      <th>6945</th>\n",
       "      <td>Coffee Drinks</td>\n",
       "      <td>10.53</td>\n",
       "      <td>True</td>\n",
       "    </tr>\n",
       "    <tr>\n",
       "      <th>6961</th>\n",
       "      <td>Coffee Drinks</td>\n",
       "      <td>13.50</td>\n",
       "      <td>True</td>\n",
       "    </tr>\n",
       "    <tr>\n",
       "      <th>6965</th>\n",
       "      <td>Coffee Drinks</td>\n",
       "      <td>11.00</td>\n",
       "      <td>True</td>\n",
       "    </tr>\n",
       "    <tr>\n",
       "      <th>...</th>\n",
       "      <td>...</td>\n",
       "      <td>...</td>\n",
       "      <td>...</td>\n",
       "    </tr>\n",
       "    <tr>\n",
       "      <th>488572</th>\n",
       "      <td>Coffee Drinks</td>\n",
       "      <td>12.00</td>\n",
       "      <td>True</td>\n",
       "    </tr>\n",
       "    <tr>\n",
       "      <th>488574</th>\n",
       "      <td>Coffee Drinks</td>\n",
       "      <td>11.00</td>\n",
       "      <td>True</td>\n",
       "    </tr>\n",
       "    <tr>\n",
       "      <th>488584</th>\n",
       "      <td>Coffee Drinks</td>\n",
       "      <td>12.22</td>\n",
       "      <td>True</td>\n",
       "    </tr>\n",
       "    <tr>\n",
       "      <th>488587</th>\n",
       "      <td>Coffee Drinks</td>\n",
       "      <td>13.33</td>\n",
       "      <td>True</td>\n",
       "    </tr>\n",
       "    <tr>\n",
       "      <th>488638</th>\n",
       "      <td>Coffee Drinks</td>\n",
       "      <td>99.00</td>\n",
       "      <td>True</td>\n",
       "    </tr>\n",
       "  </tbody>\n",
       "</table>\n",
       "<p>1505 rows × 3 columns</p>\n",
       "</div>"
      ],
      "text/plain": [
       "         sub_category  unit_price  is_outlier\n",
       "5907    Coffee Drinks       12.00        True\n",
       "5974    Coffee Drinks       12.00        True\n",
       "6945    Coffee Drinks       10.53        True\n",
       "6961    Coffee Drinks       13.50        True\n",
       "6965    Coffee Drinks       11.00        True\n",
       "...               ...         ...         ...\n",
       "488572  Coffee Drinks       12.00        True\n",
       "488574  Coffee Drinks       11.00        True\n",
       "488584  Coffee Drinks       12.22        True\n",
       "488587  Coffee Drinks       13.33        True\n",
       "488638  Coffee Drinks       99.00        True\n",
       "\n",
       "[1505 rows x 3 columns]"
      ]
     },
     "execution_count": 138,
     "metadata": {},
     "output_type": "execute_result"
    }
   ],
   "source": [
    "Q1 = df.groupby('sub_category')['unit_price'].transform(lambda x: x.quantile(0.25))\n",
    "Q3 = df.groupby('sub_category')['unit_price'].transform(lambda x: x.quantile(0.75))\n",
    "IQR = Q3 - Q1\n",
    "\n",
    "lower = Q1 - 1.5 * IQR\n",
    "upper = Q3 + 1.5 * IQR\n",
    "\n",
    "\n",
    "df['is_outlier'] = (df['unit_price'] < lower) | (df['unit_price'] > upper)\n",
    "df.loc[(df.is_outlier==True) & (df.sub_category=='Coffee Drinks'), ['sub_category','unit_price','is_outlier']]\n",
    "\n"
   ]
  },
  {
   "cell_type": "code",
   "execution_count": 152,
   "id": "89a53981-54e4-4a20-8850-bbcfbe9ae19c",
   "metadata": {},
   "outputs": [
    {
     "data": {
      "text/plain": [
       "array([ 44.  ,  76.  ,  95.  ,  40.  ,  69.  ,  49.  , 250.  ,  46.67,\n",
       "        52.67,  47.5 , 190.  ,  45.02,  50.02,  70.  ,  42.86,  40.01,\n",
       "        41.67,  60.  ,  75.  , 150.  ,  71.43,  65.  ])"
      ]
     },
     "execution_count": 152,
     "metadata": {},
     "output_type": "execute_result"
    }
   ],
   "source": [
    "outliers_by_subcat = (\n",
    "    df.loc[df.is_outlier == True]\n",
    "      .groupby('sub_category')['unit_price']\n",
    "      .unique()\n",
    ")\n",
    "\n",
    "(outliers_by_subcat['Vegetables'])\n"
   ]
  },
  {
   "cell_type": "code",
   "execution_count": 162,
   "id": "a0b63e05-6a1e-4fed-8551-add3d2b774ea",
   "metadata": {},
   "outputs": [
    {
     "data": {
      "text/plain": [
       "array([250., 190., 150.])"
      ]
     },
     "execution_count": 162,
     "metadata": {},
     "output_type": "execute_result"
    }
   ],
   "source": [
    "df.loc[(df.sub_category=='Vegetables') & (df.unit_price>140),'unit_price'].unique()"
   ]
  },
  {
   "cell_type": "code",
   "execution_count": 129,
   "id": "80d83579-1313-4c71-9c37-eb32f3217828",
   "metadata": {},
   "outputs": [
    {
     "name": "stdout",
     "output_type": "stream",
     "text": [
      "<class 'pandas.core.frame.DataFrame'>\n",
      "Index: 68927 entries, 5 to 488638\n",
      "Data columns (total 23 columns):\n",
      " #   Column           Non-Null Count  Dtype         \n",
      "---  ------           --------------  -----         \n",
      " 0   index            68927 non-null  int64         \n",
      " 1   postal_code      68927 non-null  int64         \n",
      " 2   category         68927 non-null  object        \n",
      " 3   sub_category     68927 non-null  object        \n",
      " 4   product_group    68927 non-null  object        \n",
      " 5   product_name     68927 non-null  object        \n",
      " 6   package_price    68927 non-null  float64       \n",
      " 7   price_per_unit   68927 non-null  object        \n",
      " 8   package_size     68927 non-null  object        \n",
      " 9   is_estimated     68927 non-null  int64         \n",
      " 10  is_special       68927 non-null  int64         \n",
      " 11  product_url      68927 non-null  object        \n",
      " 12  brand            68927 non-null  object        \n",
      " 13  sku              68927 non-null  object        \n",
      " 14  run_date         68927 non-null  datetime64[ns]\n",
      " 15  unit_price       68927 non-null  float64       \n",
      " 16  unit_price_unit  68927 non-null  object        \n",
      " 17  state            68927 non-null  object        \n",
      " 18  city             68927 non-null  object        \n",
      " 19  tid              68927 non-null  int64         \n",
      " 20  full_form        68927 non-null  object        \n",
      " 21  package_qty      68927 non-null  float64       \n",
      " 22  package_unit     68927 non-null  object        \n",
      "dtypes: datetime64[ns](1), float64(3), int64(5), object(14)\n",
      "memory usage: 12.6+ MB\n"
     ]
    }
   ],
   "source": [
    "potential_outliers.info()"
   ]
  },
  {
   "cell_type": "code",
   "execution_count": 130,
   "id": "e297a56b-0d50-4cd9-8dd9-b7ab9601639a",
   "metadata": {},
   "outputs": [
    {
     "data": {
      "text/html": [
       "<div>\n",
       "<style scoped>\n",
       "    .dataframe tbody tr th:only-of-type {\n",
       "        vertical-align: middle;\n",
       "    }\n",
       "\n",
       "    .dataframe tbody tr th {\n",
       "        vertical-align: top;\n",
       "    }\n",
       "\n",
       "    .dataframe thead th {\n",
       "        text-align: right;\n",
       "    }\n",
       "</style>\n",
       "<table border=\"1\" class=\"dataframe\">\n",
       "  <thead>\n",
       "    <tr style=\"text-align: right;\">\n",
       "      <th></th>\n",
       "      <th>city</th>\n",
       "      <th>tid</th>\n",
       "    </tr>\n",
       "  </thead>\n",
       "  <tbody>\n",
       "    <tr>\n",
       "      <th>0</th>\n",
       "      <td>Tempe</td>\n",
       "      <td>29742568</td>\n",
       "    </tr>\n",
       "    <tr>\n",
       "      <th>1</th>\n",
       "      <td>Tempe</td>\n",
       "      <td>29742569</td>\n",
       "    </tr>\n",
       "    <tr>\n",
       "      <th>2</th>\n",
       "      <td>Tempe</td>\n",
       "      <td>29742570</td>\n",
       "    </tr>\n",
       "    <tr>\n",
       "      <th>3</th>\n",
       "      <td>Tempe</td>\n",
       "      <td>29742571</td>\n",
       "    </tr>\n",
       "    <tr>\n",
       "      <th>4</th>\n",
       "      <td>Tempe</td>\n",
       "      <td>29742572</td>\n",
       "    </tr>\n",
       "    <tr>\n",
       "      <th>...</th>\n",
       "      <td>...</td>\n",
       "      <td>...</td>\n",
       "    </tr>\n",
       "    <tr>\n",
       "      <th>488635</th>\n",
       "      <td>Canberra</td>\n",
       "      <td>30231203</td>\n",
       "    </tr>\n",
       "    <tr>\n",
       "      <th>488636</th>\n",
       "      <td>Canberra</td>\n",
       "      <td>30231204</td>\n",
       "    </tr>\n",
       "    <tr>\n",
       "      <th>488637</th>\n",
       "      <td>Canberra</td>\n",
       "      <td>30231205</td>\n",
       "    </tr>\n",
       "    <tr>\n",
       "      <th>488638</th>\n",
       "      <td>Canberra</td>\n",
       "      <td>30231206</td>\n",
       "    </tr>\n",
       "    <tr>\n",
       "      <th>488639</th>\n",
       "      <td>Canberra</td>\n",
       "      <td>30231207</td>\n",
       "    </tr>\n",
       "  </tbody>\n",
       "</table>\n",
       "<p>485486 rows × 2 columns</p>\n",
       "</div>"
      ],
      "text/plain": [
       "            city       tid\n",
       "0          Tempe  29742568\n",
       "1          Tempe  29742569\n",
       "2          Tempe  29742570\n",
       "3          Tempe  29742571\n",
       "4          Tempe  29742572\n",
       "...          ...       ...\n",
       "488635  Canberra  30231203\n",
       "488636  Canberra  30231204\n",
       "488637  Canberra  30231205\n",
       "488638  Canberra  30231206\n",
       "488639  Canberra  30231207\n",
       "\n",
       "[485486 rows x 2 columns]"
      ]
     },
     "execution_count": 130,
     "metadata": {},
     "output_type": "execute_result"
    }
   ],
   "source": [
    "df[['city','tid']]"
   ]
  },
  {
   "cell_type": "code",
   "execution_count": 24,
   "id": "e2a2ce57-59f5-496e-a9e2-b0f810e8701c",
   "metadata": {},
   "outputs": [
    {
     "data": {
      "image/png": "[encoded data removed]",
      "text/plain": [
       "<Figure size 900x600 with 1 Axes>"
      ]
     },
     "metadata": {},
     "output_type": "display_data"
    }
   ],
   "source": [
    "sizes = df['category'].value_counts()\n",
    "labels = sizes.index\n",
    "explode = [0, 0.1, 0.05, 0.1,0.2,0.1]\n",
    "\n",
    "# Plot\n",
    "plt.figure(figsize=(9,6))\n",
    "plt.pie(sizes, labels=labels, autopct='%1.1f%%', explode=explode, startangle=45)\n",
    "plt.title(\"Total count of various categories\")\n",
    "plt.axis('equal')\n",
    "plt.tight_layout()\n",
    "plt.savefig(\"pie.png\",dpi=300, bbox_inches=\"tight\")\n",
    "plt.show()"
   ]
  },
  {
   "cell_type": "code",
   "execution_count": null,
   "id": "686b85a0-3d9c-459b-905b-f917012e24bf",
   "metadata": {},
   "outputs": [],
   "source": []
  }
 ],
 "metadata": {
  "kernelspec": {
   "display_name": "ML Project 1",
   "language": "python",
   "name": "ml_project1"
  },
  "language_info": {
   "codemirror_mode": {
    "name": "ipython",
    "version": 3
   },
   "file_extension": ".py",
   "mimetype": "text/x-python",
   "name": "python",
   "nbconvert_exporter": "python",
   "pygments_lexer": "ipython3",
   "version": "3.9.0"
  }
 },
 "nbformat": 4,
 "nbformat_minor": 5
}
